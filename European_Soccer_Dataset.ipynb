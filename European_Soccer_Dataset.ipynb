{
  "cells": [
    {
      "cell_type": "markdown",
      "id": "b161a724",
      "metadata": {
        "id": "b161a724"
      },
      "source": [
        "# Project: Investigate a Dataset - [European Soccer Dataset]\n",
        "\n",
        "## Table of Contents\n",
        "<ul>\n",
        "<li><a href=\"#intro\">Introduction</a></li>\n",
        "<li><a href=\"#wrangling\">Data Wrangling</a></li>\n",
        "<li><a href=\"#eda\">Exploratory Data Analysis</a></li>\n",
        "<li><a href=\"#conc\">Conclusions</a></li>    \n",
        "</ul>"
      ]
    },
    {
      "cell_type": "markdown",
      "id": "f81ca93a",
      "metadata": {
        "id": "f81ca93a"
      },
      "source": [
        "<a id='intro'></a>\n",
        "## Introduction\n",
        "\n",
        "### Dataset Description\n",
        "\n",
        "> This soccer database comes from Kaggle is well suited for data analysis. It contains data for soccer matches, players, and teams from several European countries (11 Countries) from 2008 to 2016.\n",
        "\n",
        "> The dataset consists of 7 tables as following:\n",
        "\n",
        "    1- Matches (contains all data for matches within the period described above i.e. Line-ups, scores, home and away teams)\n",
        "    2- Country (specifies the 11 European countries that their data are being analyzed)\n",
        "    3- League (lists the league in each country)\n",
        "    4- Player (contains all the personal data of the players in consideration)\n",
        "    5- player Attributes (contains all soccer related skills for each player)\n",
        "    6- Team (Contains all teams' names from all the leagues in consideration)\n",
        "    7- Team Attributes (Contains all teams' attributes and properties from all the leagues in consideration)\n",
        "\n",
        "\n",
        "### Question(s) for Analysis\n",
        "> The questions will be asked during this analysis will be regarding the influence of physical properties of each player over his skills alongside with the age.\n",
        "\n",
        "> Also, the skills linked to each other are investigated."
      ]
    },
    {
      "cell_type": "markdown",
      "id": "d04af5f4",
      "metadata": {
        "id": "d04af5f4"
      },
      "source": [
        "#### Getting Started\n",
        "> Let's get started at first with importing the necessary packages for the analysis process"
      ]
    },
    {
      "cell_type": "code",
      "execution_count": null,
      "id": "d4a4580e",
      "metadata": {
        "id": "d4a4580e"
      },
      "outputs": [],
      "source": [
        "import pandas as pd\n",
        "import numpy as np\n",
        "import matplotlib.pyplot as plt\n",
        "%matplotlib inline\n",
        "import seaborn as sns"
      ]
    },
    {
      "cell_type": "markdown",
      "id": "4bf5231a",
      "metadata": {
        "id": "4bf5231a"
      },
      "source": [
        "\n",
        "### Data Cleaning\n",
        "> As shown, no null data is present. Moving on with searching for duplicated values\n"
      ]
    },
    {
      "cell_type": "code",
      "execution_count": null,
      "id": "1e779831",
      "metadata": {
        "scrolled": true,
        "id": "1e779831",
        "outputId": "09d8cab8-0a56-4390-8d6c-cdbca859d8c7"
      },
      "outputs": [
        {
          "data": {
            "text/plain": [
              "0"
            ]
          },
          "execution_count": 4,
          "metadata": {},
          "output_type": "execute_result"
        }
      ],
      "source": [
        "df_players.duplicated().sum()"
      ]
    },
    {
      "cell_type": "markdown",
      "id": "0e654dd8",
      "metadata": {
        "id": "0e654dd8"
      },
      "source": [
        "No duplicated values are present which is awesome"
      ]
    },
    {
      "cell_type": "code",
      "execution_count": null,
      "id": "e0a72384",
      "metadata": {
        "id": "e0a72384",
        "outputId": "7e5cdc78-277b-4491-f2b1-35767d22b5ab"
      },
      "outputs": [
        {
          "data": {
            "text/html": [
              "<div>\n",
              "<style scoped>\n",
              "    .dataframe tbody tr th:only-of-type {\n",
              "        vertical-align: middle;\n",
              "    }\n",
              "\n",
              "    .dataframe tbody tr th {\n",
              "        vertical-align: top;\n",
              "    }\n",
              "\n",
              "    .dataframe thead th {\n",
              "        text-align: right;\n",
              "    }\n",
              "</style>\n",
              "<table border=\"1\" class=\"dataframe\">\n",
              "  <thead>\n",
              "    <tr style=\"text-align: right;\">\n",
              "      <th></th>\n",
              "      <th>id</th>\n",
              "      <th>player_api_id</th>\n",
              "      <th>player_name</th>\n",
              "      <th>player_fifa_api_id</th>\n",
              "      <th>birthday</th>\n",
              "      <th>height</th>\n",
              "      <th>weight</th>\n",
              "    </tr>\n",
              "  </thead>\n",
              "  <tbody>\n",
              "    <tr>\n",
              "      <th>0</th>\n",
              "      <td>1</td>\n",
              "      <td>505942</td>\n",
              "      <td>Aaron Appindangoye</td>\n",
              "      <td>218353</td>\n",
              "      <td>1992-02-29 00:00:00</td>\n",
              "      <td>182.88</td>\n",
              "      <td>187</td>\n",
              "    </tr>\n",
              "    <tr>\n",
              "      <th>1</th>\n",
              "      <td>2</td>\n",
              "      <td>155782</td>\n",
              "      <td>Aaron Cresswell</td>\n",
              "      <td>189615</td>\n",
              "      <td>1989-12-15 00:00:00</td>\n",
              "      <td>170.18</td>\n",
              "      <td>146</td>\n",
              "    </tr>\n",
              "    <tr>\n",
              "      <th>2</th>\n",
              "      <td>3</td>\n",
              "      <td>162549</td>\n",
              "      <td>Aaron Doran</td>\n",
              "      <td>186170</td>\n",
              "      <td>1991-05-13 00:00:00</td>\n",
              "      <td>170.18</td>\n",
              "      <td>163</td>\n",
              "    </tr>\n",
              "    <tr>\n",
              "      <th>3</th>\n",
              "      <td>4</td>\n",
              "      <td>30572</td>\n",
              "      <td>Aaron Galindo</td>\n",
              "      <td>140161</td>\n",
              "      <td>1982-05-08 00:00:00</td>\n",
              "      <td>182.88</td>\n",
              "      <td>198</td>\n",
              "    </tr>\n",
              "    <tr>\n",
              "      <th>4</th>\n",
              "      <td>5</td>\n",
              "      <td>23780</td>\n",
              "      <td>Aaron Hughes</td>\n",
              "      <td>17725</td>\n",
              "      <td>1979-11-08 00:00:00</td>\n",
              "      <td>182.88</td>\n",
              "      <td>154</td>\n",
              "    </tr>\n",
              "  </tbody>\n",
              "</table>\n",
              "</div>"
            ],
            "text/plain": [
              "   id  player_api_id         player_name  player_fifa_api_id  \\\n",
              "0   1         505942  Aaron Appindangoye              218353   \n",
              "1   2         155782     Aaron Cresswell              189615   \n",
              "2   3         162549         Aaron Doran              186170   \n",
              "3   4          30572       Aaron Galindo              140161   \n",
              "4   5          23780        Aaron Hughes               17725   \n",
              "\n",
              "              birthday  height  weight  \n",
              "0  1992-02-29 00:00:00  182.88     187  \n",
              "1  1989-12-15 00:00:00  170.18     146  \n",
              "2  1991-05-13 00:00:00  170.18     163  \n",
              "3  1982-05-08 00:00:00  182.88     198  \n",
              "4  1979-11-08 00:00:00  182.88     154  "
            ]
          },
          "execution_count": 5,
          "metadata": {},
          "output_type": "execute_result"
        }
      ],
      "source": [
        "#Now, let's explore the data more in depth\n",
        "df_players.head()"
      ]
    },
    {
      "cell_type": "markdown",
      "id": "66913db4",
      "metadata": {
        "id": "66913db4"
      },
      "source": [
        "As shown the birthdays data need to be converted to date time type in order to get the ages of each player out of them"
      ]
    },
    {
      "cell_type": "code",
      "execution_count": null,
      "id": "e062fd92",
      "metadata": {
        "id": "e062fd92",
        "outputId": "6fa49676-91e3-4afc-d7a9-c8ee597014ca"
      },
      "outputs": [
        {
          "name": "stdout",
          "output_type": "stream",
          "text": [
            "<class 'pandas.core.frame.DataFrame'>\n",
            "RangeIndex: 11060 entries, 0 to 11059\n",
            "Data columns (total 7 columns):\n",
            " #   Column              Non-Null Count  Dtype         \n",
            "---  ------              --------------  -----         \n",
            " 0   id                  11060 non-null  int64         \n",
            " 1   player_api_id       11060 non-null  int64         \n",
            " 2   player_name         11060 non-null  object        \n",
            " 3   player_fifa_api_id  11060 non-null  int64         \n",
            " 4   birthday            11060 non-null  datetime64[ns]\n",
            " 5   height              11060 non-null  float64       \n",
            " 6   weight              11060 non-null  int64         \n",
            "dtypes: datetime64[ns](1), float64(1), int64(4), object(1)\n",
            "memory usage: 605.0+ KB\n"
          ]
        }
      ],
      "source": [
        "df_players['birthday'] = pd.to_datetime(df_players['birthday'])\n",
        "df_players.info()"
      ]
    },
    {
      "cell_type": "code",
      "execution_count": null,
      "id": "a90ae238",
      "metadata": {
        "scrolled": false,
        "id": "a90ae238",
        "outputId": "c14e11a6-24af-4d08-9169-9befef514cf6"
      },
      "outputs": [
        {
          "data": {
            "text/html": [
              "<div>\n",
              "<style scoped>\n",
              "    .dataframe tbody tr th:only-of-type {\n",
              "        vertical-align: middle;\n",
              "    }\n",
              "\n",
              "    .dataframe tbody tr th {\n",
              "        vertical-align: top;\n",
              "    }\n",
              "\n",
              "    .dataframe thead th {\n",
              "        text-align: right;\n",
              "    }\n",
              "</style>\n",
              "<table border=\"1\" class=\"dataframe\">\n",
              "  <thead>\n",
              "    <tr style=\"text-align: right;\">\n",
              "      <th></th>\n",
              "      <th>id</th>\n",
              "      <th>player_api_id</th>\n",
              "      <th>player_name</th>\n",
              "      <th>player_fifa_api_id</th>\n",
              "      <th>birthday</th>\n",
              "      <th>current_age</th>\n",
              "      <th>height</th>\n",
              "      <th>weight</th>\n",
              "    </tr>\n",
              "  </thead>\n",
              "  <tbody>\n",
              "    <tr>\n",
              "      <th>0</th>\n",
              "      <td>1</td>\n",
              "      <td>505942</td>\n",
              "      <td>Aaron Appindangoye</td>\n",
              "      <td>218353</td>\n",
              "      <td>1992-02-29</td>\n",
              "      <td>29</td>\n",
              "      <td>182.88</td>\n",
              "      <td>187</td>\n",
              "    </tr>\n",
              "    <tr>\n",
              "      <th>1</th>\n",
              "      <td>2</td>\n",
              "      <td>155782</td>\n",
              "      <td>Aaron Cresswell</td>\n",
              "      <td>189615</td>\n",
              "      <td>1989-12-15</td>\n",
              "      <td>32</td>\n",
              "      <td>170.18</td>\n",
              "      <td>146</td>\n",
              "    </tr>\n",
              "    <tr>\n",
              "      <th>2</th>\n",
              "      <td>3</td>\n",
              "      <td>162549</td>\n",
              "      <td>Aaron Doran</td>\n",
              "      <td>186170</td>\n",
              "      <td>1991-05-13</td>\n",
              "      <td>30</td>\n",
              "      <td>170.18</td>\n",
              "      <td>163</td>\n",
              "    </tr>\n",
              "    <tr>\n",
              "      <th>3</th>\n",
              "      <td>4</td>\n",
              "      <td>30572</td>\n",
              "      <td>Aaron Galindo</td>\n",
              "      <td>140161</td>\n",
              "      <td>1982-05-08</td>\n",
              "      <td>39</td>\n",
              "      <td>182.88</td>\n",
              "      <td>198</td>\n",
              "    </tr>\n",
              "    <tr>\n",
              "      <th>4</th>\n",
              "      <td>5</td>\n",
              "      <td>23780</td>\n",
              "      <td>Aaron Hughes</td>\n",
              "      <td>17725</td>\n",
              "      <td>1979-11-08</td>\n",
              "      <td>42</td>\n",
              "      <td>182.88</td>\n",
              "      <td>154</td>\n",
              "    </tr>\n",
              "  </tbody>\n",
              "</table>\n",
              "</div>"
            ],
            "text/plain": [
              "   id  player_api_id         player_name  player_fifa_api_id   birthday  \\\n",
              "0   1         505942  Aaron Appindangoye              218353 1992-02-29   \n",
              "1   2         155782     Aaron Cresswell              189615 1989-12-15   \n",
              "2   3         162549         Aaron Doran              186170 1991-05-13   \n",
              "3   4          30572       Aaron Galindo              140161 1982-05-08   \n",
              "4   5          23780        Aaron Hughes               17725 1979-11-08   \n",
              "\n",
              "   current_age  height  weight  \n",
              "0           29  182.88     187  \n",
              "1           32  170.18     146  \n",
              "2           30  170.18     163  \n",
              "3           39  182.88     198  \n",
              "4           42  182.88     154  "
            ]
          },
          "execution_count": 7,
          "metadata": {},
          "output_type": "execute_result"
        }
      ],
      "source": [
        "#Now, let's add the \"current age\" column in order to facilitate operation on and visualization\n",
        "df_players.insert(5, \"current_age\",2021-df_players.birthday.dt.year)\n",
        "df_players.head()"
      ]
    },
    {
      "cell_type": "code",
      "execution_count": null,
      "id": "2d6f2c43",
      "metadata": {
        "id": "2d6f2c43",
        "outputId": "db586b4d-2f92-42b5-d492-7655748e4e1a"
      },
      "outputs": [
        {
          "name": "stdout",
          "output_type": "stream",
          "text": [
            "<class 'pandas.core.frame.DataFrame'>\n",
            "RangeIndex: 183978 entries, 0 to 183977\n",
            "Data columns (total 42 columns):\n",
            " #   Column               Non-Null Count   Dtype  \n",
            "---  ------               --------------   -----  \n",
            " 0   id                   183978 non-null  int64  \n",
            " 1   player_fifa_api_id   183978 non-null  int64  \n",
            " 2   player_api_id        183978 non-null  int64  \n",
            " 3   date                 183978 non-null  object \n",
            " 4   overall_rating       183142 non-null  float64\n",
            " 5   potential            183142 non-null  float64\n",
            " 6   preferred_foot       183142 non-null  object \n",
            " 7   attacking_work_rate  180748 non-null  object \n",
            " 8   defensive_work_rate  183142 non-null  object \n",
            " 9   crossing             183142 non-null  float64\n",
            " 10  finishing            183142 non-null  float64\n",
            " 11  heading_accuracy     183142 non-null  float64\n",
            " 12  short_passing        183142 non-null  float64\n",
            " 13  volleys              181265 non-null  float64\n",
            " 14  dribbling            183142 non-null  float64\n",
            " 15  curve                181265 non-null  float64\n",
            " 16  free_kick_accuracy   183142 non-null  float64\n",
            " 17  long_passing         183142 non-null  float64\n",
            " 18  ball_control         183142 non-null  float64\n",
            " 19  acceleration         183142 non-null  float64\n",
            " 20  sprint_speed         183142 non-null  float64\n",
            " 21  agility              181265 non-null  float64\n",
            " 22  reactions            183142 non-null  float64\n",
            " 23  balance              181265 non-null  float64\n",
            " 24  shot_power           183142 non-null  float64\n",
            " 25  jumping              181265 non-null  float64\n",
            " 26  stamina              183142 non-null  float64\n",
            " 27  strength             183142 non-null  float64\n",
            " 28  long_shots           183142 non-null  float64\n",
            " 29  aggression           183142 non-null  float64\n",
            " 30  interceptions        183142 non-null  float64\n",
            " 31  positioning          183142 non-null  float64\n",
            " 32  vision               181265 non-null  float64\n",
            " 33  penalties            183142 non-null  float64\n",
            " 34  marking              183142 non-null  float64\n",
            " 35  standing_tackle      183142 non-null  float64\n",
            " 36  sliding_tackle       181265 non-null  float64\n",
            " 37  gk_diving            183142 non-null  float64\n",
            " 38  gk_handling          183142 non-null  float64\n",
            " 39  gk_kicking           183142 non-null  float64\n",
            " 40  gk_positioning       183142 non-null  float64\n",
            " 41  gk_reflexes          183142 non-null  float64\n",
            "dtypes: float64(35), int64(3), object(4)\n",
            "memory usage: 59.0+ MB\n"
          ]
        }
      ],
      "source": [
        "#Now let's explore player's attributes dataset\n",
        "df_player_att=pd.read_csv('Player_Attributes.csv')\n",
        "df_player_att.info()"
      ]
    },
    {
      "cell_type": "markdown",
      "id": "f43ba517",
      "metadata": {
        "id": "f43ba517"
      },
      "source": [
        "As shown there are some null values in the players' attributes dataset. But we will get to that shortly."
      ]
    },
    {
      "cell_type": "code",
      "execution_count": null,
      "id": "7782491a",
      "metadata": {
        "scrolled": true,
        "id": "7782491a",
        "outputId": "4a2979ae-cc3b-42a4-830b-e7f00cffb352"
      },
      "outputs": [
        {
          "name": "stdout",
          "output_type": "stream",
          "text": [
            "<class 'pandas.core.frame.DataFrame'>\n",
            "Int64Index: 183978 entries, 0 to 183977\n",
            "Data columns (total 49 columns):\n",
            " #   Column                Non-Null Count   Dtype         \n",
            "---  ------                --------------   -----         \n",
            " 0   id_x                  183978 non-null  int64         \n",
            " 1   player_api_id         183978 non-null  int64         \n",
            " 2   player_name           183978 non-null  object        \n",
            " 3   player_fifa_api_id_x  183978 non-null  int64         \n",
            " 4   birthday              183978 non-null  datetime64[ns]\n",
            " 5   current_age           183978 non-null  int64         \n",
            " 6   height                183978 non-null  float64       \n",
            " 7   weight                183978 non-null  int64         \n",
            " 8   id_y                  183978 non-null  int64         \n",
            " 9   player_fifa_api_id_y  183978 non-null  int64         \n",
            " 10  date                  183978 non-null  object        \n",
            " 11  overall_rating        183142 non-null  float64       \n",
            " 12  potential             183142 non-null  float64       \n",
            " 13  preferred_foot        183142 non-null  object        \n",
            " 14  attacking_work_rate   180748 non-null  object        \n",
            " 15  defensive_work_rate   183142 non-null  object        \n",
            " 16  crossing              183142 non-null  float64       \n",
            " 17  finishing             183142 non-null  float64       \n",
            " 18  heading_accuracy      183142 non-null  float64       \n",
            " 19  short_passing         183142 non-null  float64       \n",
            " 20  volleys               181265 non-null  float64       \n",
            " 21  dribbling             183142 non-null  float64       \n",
            " 22  curve                 181265 non-null  float64       \n",
            " 23  free_kick_accuracy    183142 non-null  float64       \n",
            " 24  long_passing          183142 non-null  float64       \n",
            " 25  ball_control          183142 non-null  float64       \n",
            " 26  acceleration          183142 non-null  float64       \n",
            " 27  sprint_speed          183142 non-null  float64       \n",
            " 28  agility               181265 non-null  float64       \n",
            " 29  reactions             183142 non-null  float64       \n",
            " 30  balance               181265 non-null  float64       \n",
            " 31  shot_power            183142 non-null  float64       \n",
            " 32  jumping               181265 non-null  float64       \n",
            " 33  stamina               183142 non-null  float64       \n",
            " 34  strength              183142 non-null  float64       \n",
            " 35  long_shots            183142 non-null  float64       \n",
            " 36  aggression            183142 non-null  float64       \n",
            " 37  interceptions         183142 non-null  float64       \n",
            " 38  positioning           183142 non-null  float64       \n",
            " 39  vision                181265 non-null  float64       \n",
            " 40  penalties             183142 non-null  float64       \n",
            " 41  marking               183142 non-null  float64       \n",
            " 42  standing_tackle       183142 non-null  float64       \n",
            " 43  sliding_tackle        181265 non-null  float64       \n",
            " 44  gk_diving             183142 non-null  float64       \n",
            " 45  gk_handling           183142 non-null  float64       \n",
            " 46  gk_kicking            183142 non-null  float64       \n",
            " 47  gk_positioning        183142 non-null  float64       \n",
            " 48  gk_reflexes           183142 non-null  float64       \n",
            "dtypes: datetime64[ns](1), float64(36), int64(7), object(5)\n",
            "memory usage: 70.2+ MB\n"
          ]
        }
      ],
      "source": [
        "#Now let's merge both players and players attributes datasets together\n",
        "df_players_combined = df_players.merge(df_player_att, left_on='player_api_id', right_on='player_api_id', how='outer')\n",
        "df_players_combined.info()"
      ]
    },
    {
      "cell_type": "code",
      "execution_count": null,
      "id": "d83a8212",
      "metadata": {
        "id": "d83a8212",
        "outputId": "a34202fe-62ec-429f-bc23-6b2b86ecd5bd"
      },
      "outputs": [
        {
          "data": {
            "text/plain": [
              "id_x                       0\n",
              "player_api_id              0\n",
              "player_name                0\n",
              "player_fifa_api_id_x       0\n",
              "birthday                   0\n",
              "current_age                0\n",
              "height                     0\n",
              "weight                     0\n",
              "id_y                       0\n",
              "player_fifa_api_id_y       0\n",
              "date                       0\n",
              "overall_rating           836\n",
              "potential                836\n",
              "preferred_foot           836\n",
              "attacking_work_rate     3230\n",
              "defensive_work_rate      836\n",
              "crossing                 836\n",
              "finishing                836\n",
              "heading_accuracy         836\n",
              "short_passing            836\n",
              "volleys                 2713\n",
              "dribbling                836\n",
              "curve                   2713\n",
              "free_kick_accuracy       836\n",
              "long_passing             836\n",
              "ball_control             836\n",
              "acceleration             836\n",
              "sprint_speed             836\n",
              "agility                 2713\n",
              "reactions                836\n",
              "balance                 2713\n",
              "shot_power               836\n",
              "jumping                 2713\n",
              "stamina                  836\n",
              "strength                 836\n",
              "long_shots               836\n",
              "aggression               836\n",
              "interceptions            836\n",
              "positioning              836\n",
              "vision                  2713\n",
              "penalties                836\n",
              "marking                  836\n",
              "standing_tackle          836\n",
              "sliding_tackle          2713\n",
              "gk_diving                836\n",
              "gk_handling              836\n",
              "gk_kicking               836\n",
              "gk_positioning           836\n",
              "gk_reflexes              836\n",
              "dtype: int64"
            ]
          },
          "execution_count": 10,
          "metadata": {},
          "output_type": "execute_result"
        }
      ],
      "source": [
        "#Let's get back to null values and investigate about those\n",
        "df_players_combined.isnull().sum()"
      ]
    },
    {
      "cell_type": "code",
      "execution_count": null,
      "id": "bbbd7add",
      "metadata": {
        "id": "bbbd7add",
        "outputId": "b387833f-4292-4806-b538-070a4138f687"
      },
      "outputs": [
        {
          "data": {
            "text/plain": [
              "id_x                    0\n",
              "player_api_id           0\n",
              "player_name             0\n",
              "player_fifa_api_id_x    0\n",
              "birthday                0\n",
              "current_age             0\n",
              "height                  0\n",
              "weight                  0\n",
              "id_y                    0\n",
              "player_fifa_api_id_y    0\n",
              "date                    0\n",
              "overall_rating          0\n",
              "potential               0\n",
              "preferred_foot          0\n",
              "attacking_work_rate     0\n",
              "defensive_work_rate     0\n",
              "crossing                0\n",
              "finishing               0\n",
              "heading_accuracy        0\n",
              "short_passing           0\n",
              "volleys                 0\n",
              "dribbling               0\n",
              "curve                   0\n",
              "free_kick_accuracy      0\n",
              "long_passing            0\n",
              "ball_control            0\n",
              "acceleration            0\n",
              "sprint_speed            0\n",
              "agility                 0\n",
              "reactions               0\n",
              "balance                 0\n",
              "shot_power              0\n",
              "jumping                 0\n",
              "stamina                 0\n",
              "strength                0\n",
              "long_shots              0\n",
              "aggression              0\n",
              "interceptions           0\n",
              "positioning             0\n",
              "vision                  0\n",
              "penalties               0\n",
              "marking                 0\n",
              "standing_tackle         0\n",
              "sliding_tackle          0\n",
              "gk_diving               0\n",
              "gk_handling             0\n",
              "gk_kicking              0\n",
              "gk_positioning          0\n",
              "gk_reflexes             0\n",
              "dtype: int64"
            ]
          },
          "execution_count": 11,
          "metadata": {},
          "output_type": "execute_result"
        }
      ],
      "source": [
        "# Well, they are not that much relatively with the complete dataset.\n",
        "# So, we can get rid of them\n",
        "df_players_combined.dropna(inplace=True)\n",
        "\n",
        "#let's re-check\n",
        "df_players_combined.isnull().sum()"
      ]
    },
    {
      "cell_type": "code",
      "execution_count": null,
      "id": "ade55829",
      "metadata": {
        "scrolled": true,
        "id": "ade55829",
        "outputId": "64384273-19fe-478d-9d8c-6daf9e086a13"
      },
      "outputs": [
        {
          "data": {
            "text/plain": [
              "0"
            ]
          },
          "execution_count": 12,
          "metadata": {},
          "output_type": "execute_result"
        }
      ],
      "source": [
        "#Now, let's check duplicate values\n",
        "df_players_combined.duplicated().sum()"
      ]
    },
    {
      "cell_type": "markdown",
      "id": "6a08282f",
      "metadata": {
        "id": "6a08282f"
      },
      "source": [
        "> As shown before in the players combined dataset, dates are inserted as **object data type**.\n",
        "> So, we need to resolve this issue in order to operate on the dates."
      ]
    },
    {
      "cell_type": "code",
      "execution_count": null,
      "id": "72721965",
      "metadata": {
        "id": "72721965",
        "outputId": "1e095359-54ca-4e9f-a3c7-05bc3221ccf4"
      },
      "outputs": [
        {
          "name": "stdout",
          "output_type": "stream",
          "text": [
            "<class 'pandas.core.frame.DataFrame'>\n",
            "Int64Index: 180354 entries, 0 to 183977\n",
            "Data columns (total 49 columns):\n",
            " #   Column                Non-Null Count   Dtype         \n",
            "---  ------                --------------   -----         \n",
            " 0   id_x                  180354 non-null  int64         \n",
            " 1   player_api_id         180354 non-null  int64         \n",
            " 2   player_name           180354 non-null  object        \n",
            " 3   player_fifa_api_id_x  180354 non-null  int64         \n",
            " 4   birthday              180354 non-null  datetime64[ns]\n",
            " 5   current_age           180354 non-null  int64         \n",
            " 6   height                180354 non-null  float64       \n",
            " 7   weight                180354 non-null  int64         \n",
            " 8   id_y                  180354 non-null  int64         \n",
            " 9   player_fifa_api_id_y  180354 non-null  int64         \n",
            " 10  date                  180354 non-null  datetime64[ns]\n",
            " 11  overall_rating        180354 non-null  float64       \n",
            " 12  potential             180354 non-null  float64       \n",
            " 13  preferred_foot        180354 non-null  object        \n",
            " 14  attacking_work_rate   180354 non-null  object        \n",
            " 15  defensive_work_rate   180354 non-null  object        \n",
            " 16  crossing              180354 non-null  float64       \n",
            " 17  finishing             180354 non-null  float64       \n",
            " 18  heading_accuracy      180354 non-null  float64       \n",
            " 19  short_passing         180354 non-null  float64       \n",
            " 20  volleys               180354 non-null  float64       \n",
            " 21  dribbling             180354 non-null  float64       \n",
            " 22  curve                 180354 non-null  float64       \n",
            " 23  free_kick_accuracy    180354 non-null  float64       \n",
            " 24  long_passing          180354 non-null  float64       \n",
            " 25  ball_control          180354 non-null  float64       \n",
            " 26  acceleration          180354 non-null  float64       \n",
            " 27  sprint_speed          180354 non-null  float64       \n",
            " 28  agility               180354 non-null  float64       \n",
            " 29  reactions             180354 non-null  float64       \n",
            " 30  balance               180354 non-null  float64       \n",
            " 31  shot_power            180354 non-null  float64       \n",
            " 32  jumping               180354 non-null  float64       \n",
            " 33  stamina               180354 non-null  float64       \n",
            " 34  strength              180354 non-null  float64       \n",
            " 35  long_shots            180354 non-null  float64       \n",
            " 36  aggression            180354 non-null  float64       \n",
            " 37  interceptions         180354 non-null  float64       \n",
            " 38  positioning           180354 non-null  float64       \n",
            " 39  vision                180354 non-null  float64       \n",
            " 40  penalties             180354 non-null  float64       \n",
            " 41  marking               180354 non-null  float64       \n",
            " 42  standing_tackle       180354 non-null  float64       \n",
            " 43  sliding_tackle        180354 non-null  float64       \n",
            " 44  gk_diving             180354 non-null  float64       \n",
            " 45  gk_handling           180354 non-null  float64       \n",
            " 46  gk_kicking            180354 non-null  float64       \n",
            " 47  gk_positioning        180354 non-null  float64       \n",
            " 48  gk_reflexes           180354 non-null  float64       \n",
            "dtypes: datetime64[ns](2), float64(36), int64(7), object(4)\n",
            "memory usage: 68.8+ MB\n"
          ]
        }
      ],
      "source": [
        "df_players_combined['date'] = pd.to_datetime(df_players_combined['date'])\n",
        "\n",
        "#Now, let's check the data types for all the columns\n",
        "df_players_combined.info()"
      ]
    },
    {
      "cell_type": "code",
      "execution_count": null,
      "id": "5696b919",
      "metadata": {
        "id": "5696b919"
      },
      "outputs": [],
      "source": [
        "#Now let's Calculate the age of player at the time of considering player's skills\n",
        "\n",
        "def age(start,curr):\n",
        "    return(int((curr-start).days / 365.25))\n",
        "\n",
        "df_players_combined['age'] = df_players_combined.apply(lambda x: age(x['birthday'], x['date']), axis = 1)"
      ]
    },
    {
      "cell_type": "markdown",
      "id": "e43fedab",
      "metadata": {
        "id": "e43fedab"
      },
      "source": [
        "<a id='eda'></a>\n",
        "### Getting for EDA"
      ]
    },
    {
      "cell_type": "markdown",
      "id": "5616f81c",
      "metadata": {
        "id": "5616f81c"
      },
      "source": [
        "Now, let's start with the most basic questions\n",
        "\n",
        "First of all, how many players are left fooeted and how many are right footed"
      ]
    },
    {
      "cell_type": "markdown",
      "id": "0d7bc5b0",
      "metadata": {
        "id": "0d7bc5b0"
      },
      "source": [
        "#### Question (1): How many players are left footed and how many are right footed?"
      ]
    },
    {
      "cell_type": "code",
      "execution_count": null,
      "id": "957165a4",
      "metadata": {
        "id": "957165a4",
        "outputId": "85a37f5e-bfea-4ae6-c502-9d102cc138cc"
      },
      "outputs": [
        {
          "data": {
            "text/plain": [
              "right    136247\n",
              "left      44107\n",
              "Name: preferred_foot, dtype: int64"
            ]
          },
          "execution_count": 15,
          "metadata": {},
          "output_type": "execute_result"
        }
      ],
      "source": [
        "df_players_combined.preferred_foot.value_counts()"
      ]
    },
    {
      "cell_type": "code",
      "execution_count": null,
      "id": "963ccd7f",
      "metadata": {
        "id": "963ccd7f",
        "outputId": "415b0d76-b0ed-4532-c591-cbab437decef"
      },
      "outputs": [
        {
          "data": {
            "image/png": "[encoded data removed]",
            "text/plain": [
              "<Figure size 504x504 with 1 Axes>"
            ]
          },
          "metadata": {},
          "output_type": "display_data"
        }
      ],
      "source": [
        "# Let's plot this data to have more visualized look\n",
        "left= df_players_combined.query('preferred_foot==\"left\"')\n",
        "right= df_players_combined.query('preferred_foot==\"right\"')\n",
        "df_players_combined['preferred_foot'].value_counts().plot.pie(autopct='%1.1f%%',startangle=0, shadow=True,figsize=(7,7)).set_title(\"Preferred Foot for Players in Europe\");"
      ]
    },
    {
      "cell_type": "markdown",
      "id": "bcd3eaa1",
      "metadata": {
        "id": "bcd3eaa1"
      },
      "source": [
        "This is pretty natural as in only about 1 player in 4 is left footed. Majority of players are right footed."
      ]
    },
    {
      "cell_type": "markdown",
      "id": "a2a15dbf",
      "metadata": {
        "id": "a2a15dbf"
      },
      "source": [
        "#### Question (2): What is the age distribution of all players in the datasets?"
      ]
    },
    {
      "cell_type": "code",
      "execution_count": null,
      "id": "745783fb",
      "metadata": {
        "id": "745783fb",
        "outputId": "af5faa9a-f19d-48eb-c7ff-cc5479bf291b"
      },
      "outputs": [
        {
          "data": {
            "text/plain": [
              "count    180354.000000\n",
              "mean         25.161993\n",
              "std           4.719768\n",
              "min           7.000000\n",
              "25%          22.000000\n",
              "50%          25.000000\n",
              "75%          28.000000\n",
              "max          43.000000\n",
              "Name: age, dtype: float64"
            ]
          },
          "execution_count": 17,
          "metadata": {},
          "output_type": "execute_result"
        }
      ],
      "source": [
        "# Moving on to the next exploration\n",
        "# Let's explore the \"age\" data of the players\n",
        "df_players_combined['age'].describe()"
      ]
    },
    {
      "cell_type": "code",
      "execution_count": null,
      "id": "aeaa25b3",
      "metadata": {
        "id": "aeaa25b3",
        "outputId": "9f191fad-a393-4fef-b956-85e018668bd2"
      },
      "outputs": [
        {
          "data": {
            "image/png": "[encoded data removed]",
            "text/plain": [
              "<Figure size 432x288 with 1 Axes>"
            ]
          },
          "metadata": {
            "needs_background": "light"
          },
          "output_type": "display_data"
        }
      ],
      "source": [
        "# Visualizing the \"age\" distribution of all the players\n",
        "plt.hist(df_players_combined['age']);"
      ]
    },
    {
      "cell_type": "markdown",
      "id": "14d4afbd",
      "metadata": {
        "id": "14d4afbd"
      },
      "source": [
        "#### Now let's explore the effect of phiscyal attributes on the skills of each player"
      ]
    },
    {
      "cell_type": "markdown",
      "id": "3c5d4223",
      "metadata": {
        "id": "3c5d4223"
      },
      "source": [
        "#### Question (3): Which physical attributes affect football skills?"
      ]
    },
    {
      "cell_type": "code",
      "execution_count": null,
      "id": "20f325bb",
      "metadata": {
        "id": "20f325bb",
        "outputId": "997ba61a-1e68-488a-ac20-db097235f201"
      },
      "outputs": [
        {
          "data": {
            "image/png": "[encoded data removed]",
            "text/plain": [
              "<Figure size 432x288 with 1 Axes>"
            ]
          },
          "metadata": {
            "needs_background": "light"
          },
          "output_type": "display_data"
        }
      ],
      "source": [
        "df_players_combined.plot(x=\"height\",y=\"heading_accuracy\",kind=\"scatter\",color = '#88c999').set_title(\"Height vs Heading Accuracy\");"
      ]
    },
    {
      "cell_type": "markdown",
      "id": "2c46b721",
      "metadata": {
        "id": "2c46b721"
      },
      "source": [
        "As it's shown, the more hieght of the player the more ability of heading accurately he gets."
      ]
    },
    {
      "cell_type": "code",
      "execution_count": null,
      "id": "f2ce682c",
      "metadata": {
        "id": "f2ce682c",
        "outputId": "e2b8aeac-a11c-4826-b097-0c38d00276f5"
      },
      "outputs": [
        {
          "data": {
            "image/png": "[encoded data removed]",
            "text/plain": [
              "<Figure size 432x288 with 1 Axes>"
            ]
          },
          "metadata": {
            "needs_background": "light"
          },
          "output_type": "display_data"
        }
      ],
      "source": [
        "df_players_combined.plot(x=\"weight\",y=\"reactions\",kind=\"scatter\",color = '#88c999').set_title(\"Weight vs Reactions\");"
      ]
    },
    {
      "cell_type": "markdown",
      "id": "cdd85c89",
      "metadata": {
        "id": "cdd85c89"
      },
      "source": [
        "There's like a threshold weight (which is around 180) that above it, players' reactions get lower as they lose the ability to react well and efficiently"
      ]
    },
    {
      "cell_type": "code",
      "execution_count": null,
      "id": "d1941615",
      "metadata": {
        "id": "d1941615",
        "outputId": "11a76e0a-18a4-41cd-fdbd-62bc1daa1ec6"
      },
      "outputs": [
        {
          "data": {
            "image/png": "[encoded data removed]",
            "text/plain": [
              "<Figure size 432x288 with 1 Axes>"
            ]
          },
          "metadata": {
            "needs_background": "light"
          },
          "output_type": "display_data"
        }
      ],
      "source": [
        "df_players_combined.plot(x=\"weight\",y=\"acceleration\",kind=\"scatter\",color = '#88c999').set_title(\"Weight vs Acceleration\");"
      ]
    },
    {
      "cell_type": "markdown",
      "id": "2f9a0c79",
      "metadata": {
        "id": "2f9a0c79"
      },
      "source": [
        "Logically, the more weight players gain, the less acceleration they can get"
      ]
    },
    {
      "cell_type": "code",
      "execution_count": null,
      "id": "1ee500b1",
      "metadata": {
        "id": "1ee500b1",
        "outputId": "4af6742e-7ab6-4ca3-d697-1a999a2c7c14"
      },
      "outputs": [
        {
          "data": {
            "image/png": "[encoded data removed]",
            "text/plain": [
              "<Figure size 432x288 with 1 Axes>"
            ]
          },
          "metadata": {
            "needs_background": "light"
          },
          "output_type": "display_data"
        }
      ],
      "source": [
        "df_players_combined.plot(x=\"weight\",y=\"sprint_speed\",kind=\"scatter\",color = '#88c999').set_title(\"Weight vs Sprint Speed\");"
      ]
    },
    {
      "cell_type": "markdown",
      "id": "cf4f20f7",
      "metadata": {
        "id": "cf4f20f7"
      },
      "source": [
        "Also, the more weight players gain, the less sprint speed they can get whioch totally makes sense"
      ]
    },
    {
      "cell_type": "code",
      "execution_count": null,
      "id": "060b6c97",
      "metadata": {
        "id": "060b6c97",
        "outputId": "62ae6a61-d51e-41c3-d30a-a522d06b9857"
      },
      "outputs": [
        {
          "data": {
            "image/png": "[encoded data removed]",
            "text/plain": [
              "<Figure size 432x288 with 1 Axes>"
            ]
          },
          "metadata": {
            "needs_background": "light"
          },
          "output_type": "display_data"
        }
      ],
      "source": [
        "# Now let's explore which players have the more dribbling skills (left footed or right footed)\n",
        "drib_left=df_players_combined[(df_players_combined.preferred_foot=='left')].dribbling.mean()\n",
        "drib_right=df_players_combined[(df_players_combined.preferred_foot=='right')].dribbling.mean()\n",
        "plt.bar([\"Left\", \"Right\"], [drib_left, drib_right])\n",
        "plt.title(\"Preferred Foot VS Dribbling Skills\")\n",
        "plt.xlabel(\"Preferred Foot\")\n",
        "plt.ylabel(\"Average Dribbling\");"
      ]
    },
    {
      "cell_type": "markdown",
      "id": "fa27aeb4",
      "metadata": {
        "id": "fa27aeb4"
      },
      "source": [
        "Left footed players are slightly better at driblling (even though they are the least number of players) which is understandable as they are the least predicted unlike the right footed players"
      ]
    },
    {
      "cell_type": "markdown",
      "id": "7c43ae12",
      "metadata": {
        "id": "7c43ae12"
      },
      "source": [
        "#### Now let's explore the skills that are linked to ach other and their effect"
      ]
    },
    {
      "cell_type": "markdown",
      "id": "9fe9dbcf",
      "metadata": {
        "id": "9fe9dbcf"
      },
      "source": [
        "#### Question (4): Which football skills are related to each other? And how are the related whether positively or negatively?"
      ]
    },
    {
      "cell_type": "code",
      "execution_count": null,
      "id": "83fc601b",
      "metadata": {
        "id": "83fc601b",
        "outputId": "27b8a0c3-9b7f-4530-94be-12c6e0835acb"
      },
      "outputs": [
        {
          "data": {
            "image/png": "[encoded data removed]",
            "text/plain": [
              "<Figure size 432x288 with 1 Axes>"
            ]
          },
          "metadata": {
            "needs_background": "light"
          },
          "output_type": "display_data"
        }
      ],
      "source": [
        "df_players_combined.plot(x=\"overall_rating\",y=\"potential\",kind=\"scatter\",color = '#88c999').set_title(\"Overall vs Potential\");"
      ]
    },
    {
      "cell_type": "markdown",
      "id": "ec646406",
      "metadata": {
        "id": "ec646406"
      },
      "source": [
        "This shows that most of the players with high potential turned out to be players with high overall rating"
      ]
    },
    {
      "cell_type": "code",
      "execution_count": null,
      "id": "cc3ce20f",
      "metadata": {
        "id": "cc3ce20f",
        "outputId": "334f715e-b21b-4b76-8a8c-766b1d3b71e7"
      },
      "outputs": [
        {
          "data": {
            "image/png": "[encoded data removed]",
            "text/plain": [
              "<Figure size 432x288 with 1 Axes>"
            ]
          },
          "metadata": {
            "needs_background": "light"
          },
          "output_type": "display_data"
        }
      ],
      "source": [
        "df_players_combined.plot(x=\"free_kick_accuracy\",y=\"curve\",kind=\"scatter\",color = '#88c999').set_title(\"Free Kick Accuracy vs Curve\");"
      ]
    },
    {
      "cell_type": "markdown",
      "id": "d9ebf4fb",
      "metadata": {
        "id": "d9ebf4fb"
      },
      "source": [
        "This shows that curve is an important skill for the free kick accuracy. However, some players can be great at free kicks without the curve skill."
      ]
    },
    {
      "cell_type": "code",
      "execution_count": null,
      "id": "486ad27a",
      "metadata": {
        "id": "486ad27a",
        "outputId": "9d28684f-f14a-4d32-93e4-a86abc6cc867"
      },
      "outputs": [
        {
          "data": {
            "image/png": "[encoded data removed]",
            "text/plain": [
              "<Figure size 432x288 with 1 Axes>"
            ]
          },
          "metadata": {
            "needs_background": "light"
          },
          "output_type": "display_data"
        }
      ],
      "source": [
        "df_players_combined.plot(x=\"sprint_speed\",y=\"acceleration\",kind=\"scatter\",color = '#88c999').set_title(\"sprint Speed vs Acceleration\");"
      ]
    },
    {
      "cell_type": "markdown",
      "id": "272f6759",
      "metadata": {
        "id": "272f6759"
      },
      "source": [
        "Naturally, the acceleration is in linear correlation with the sprint speed"
      ]
    },
    {
      "cell_type": "code",
      "execution_count": null,
      "id": "45fcdf91",
      "metadata": {
        "scrolled": true,
        "id": "45fcdf91",
        "outputId": "773b13f3-cac5-4e5a-c6fc-69ee432fe7a6"
      },
      "outputs": [
        {
          "data": {
            "image/png": "[encoded data removed]",
            "text/plain": [
              "<Figure size 432x288 with 1 Axes>"
            ]
          },
          "metadata": {
            "needs_background": "light"
          },
          "output_type": "display_data"
        }
      ],
      "source": [
        "df_players_combined.plot(x=\"short_passing\",y=\"long_passing\",kind=\"scatter\",color = '#88c999').set_title(\"Short Passing vs Long Passing\");"
      ]
    },
    {
      "cell_type": "markdown",
      "id": "8764cbe8",
      "metadata": {
        "id": "8764cbe8"
      },
      "source": [
        "There are a lot of players who inspite of having high Long Passing skills have low Short Passing scores."
      ]
    },
    {
      "cell_type": "code",
      "execution_count": null,
      "id": "28ad0334",
      "metadata": {
        "id": "28ad0334",
        "outputId": "f3814274-5886-4653-d8d5-ccb3dfbc4123"
      },
      "outputs": [
        {
          "data": {
            "image/png": "[encoded data removed]",
            "text/plain": [
              "<Figure size 432x288 with 1 Axes>"
            ]
          },
          "metadata": {
            "needs_background": "light"
          },
          "output_type": "display_data"
        }
      ],
      "source": [
        "df_players_combined.plot(x=\"ball_control\",y=\"dribbling\",kind=\"scatter\",color = '#88c999').set_title(\"Ball Control vs Dribbling\");"
      ]
    },
    {
      "cell_type": "code",
      "execution_count": null,
      "id": "3229adcd",
      "metadata": {
        "id": "3229adcd",
        "outputId": "68459d85-1e57-4364-8cd1-4e9d6467a095"
      },
      "outputs": [
        {
          "data": {
            "image/png": "[encoded data removed]",
            "text/plain": [
              "<Figure size 432x288 with 1 Axes>"
            ]
          },
          "metadata": {
            "needs_background": "light"
          },
          "output_type": "display_data"
        }
      ],
      "source": [
        "df_players_combined.plot(x=\"overall_rating\",y=\"dribbling\",kind=\"scatter\",color = '#88c999').set_title(\"Overall vs Dribbling\");"
      ]
    },
    {
      "cell_type": "markdown",
      "id": "14232aa0",
      "metadata": {
        "id": "14232aa0"
      },
      "source": [
        "Players with higher overall ratings tend to have more driblling skills which implicates the criticality of such skill in the soccer world"
      ]
    },
    {
      "cell_type": "markdown",
      "id": "8065839c",
      "metadata": {
        "id": "8065839c"
      },
      "source": [
        "### Now let's explore the effect of age on players' skills"
      ]
    },
    {
      "cell_type": "markdown",
      "id": "d49b1f4c",
      "metadata": {
        "id": "d49b1f4c"
      },
      "source": [
        "#### Question (5): How much does the age of players affect their skills that are based on physical health?"
      ]
    },
    {
      "cell_type": "code",
      "execution_count": null,
      "id": "6ace9241",
      "metadata": {
        "id": "6ace9241",
        "outputId": "6478c391-8821-410e-e802-8b8e9bf61d4f"
      },
      "outputs": [
        {
          "data": {
            "image/png": "[encoded data removed]",
            "text/plain": [
              "<Figure size 720x720 with 1 Axes>"
            ]
          },
          "metadata": {
            "needs_background": "light"
          },
          "output_type": "display_data"
        }
      ],
      "source": [
        "# Visually exploring the effect of the age on players' skills\n",
        "df_players_combined.groupby('age')['strength'].mean().plot(kind=\"line\",figsize=(10,10),label='Average Strength');\n",
        "df_players_combined.groupby('age')['reactions'].mean().plot(kind=\"line\",figsize=(10,10),label='Average Reactions');\n",
        "df_players_combined.groupby('age')['sprint_speed'].mean().plot(kind=\"line\",figsize=(10,10),label='Average Sprint Speed');\n",
        "df_players_combined.groupby('age')['agility'].mean().plot(kind=\"line\",figsize=(10,10),label='Average Agility');\n",
        "df_players_combined.groupby('age')['stamina'].mean().plot(kind=\"line\",figsize=(10,10),label='Average Stamina');\n",
        "df_players_combined.groupby('age')['aggression'].mean().plot(kind=\"line\",figsize=(10,10),label='Average Aggression');\n",
        "df_players_combined.groupby('age')['jumping'].mean().plot(kind=\"line\",figsize=(10,10),label='Average Jumping');\n",
        "plt.xlabel(\"Age\");\n",
        "plt.ylabel(\"Physical Skills Score\");\n",
        "plt.legend()\n",
        "plt.show()"
      ]
    },
    {
      "cell_type": "markdown",
      "id": "7e01dec0",
      "metadata": {
        "id": "7e01dec0"
      },
      "source": [
        "In this graph, it is clear that as the players get older the attributes which depend on the physical health of the player decreases."
      ]
    },
    {
      "cell_type": "markdown",
      "id": "8b36fd0a",
      "metadata": {
        "id": "8b36fd0a"
      },
      "source": [
        "### Now let's get more into the data of the advantages of each player"
      ]
    },
    {
      "cell_type": "markdown",
      "id": "a26bad32",
      "metadata": {
        "id": "a26bad32"
      },
      "source": [
        "#### Question (6): Who is the player with the best overall rating?"
      ]
    },
    {
      "cell_type": "code",
      "execution_count": null,
      "id": "902289d8",
      "metadata": {
        "id": "902289d8",
        "outputId": "101accde-7050-4552-f9a8-ab17240032f1"
      },
      "outputs": [
        {
          "data": {
            "text/html": [
              "<div>\n",
              "<style scoped>\n",
              "    .dataframe tbody tr th:only-of-type {\n",
              "        vertical-align: middle;\n",
              "    }\n",
              "\n",
              "    .dataframe tbody tr th {\n",
              "        vertical-align: top;\n",
              "    }\n",
              "\n",
              "    .dataframe thead th {\n",
              "        text-align: right;\n",
              "    }\n",
              "</style>\n",
              "<table border=\"1\" class=\"dataframe\">\n",
              "  <thead>\n",
              "    <tr style=\"text-align: right;\">\n",
              "      <th></th>\n",
              "      <th>player_name</th>\n",
              "      <th>height</th>\n",
              "      <th>overall_rating</th>\n",
              "      <th>potential</th>\n",
              "      <th>preferred_foot</th>\n",
              "    </tr>\n",
              "  </thead>\n",
              "  <tbody>\n",
              "    <tr>\n",
              "      <th>102482</th>\n",
              "      <td>Lionel Messi</td>\n",
              "      <td>170.18</td>\n",
              "      <td>94.0</td>\n",
              "      <td>94.0</td>\n",
              "      <td>left</td>\n",
              "    </tr>\n",
              "    <tr>\n",
              "      <th>102483</th>\n",
              "      <td>Lionel Messi</td>\n",
              "      <td>170.18</td>\n",
              "      <td>94.0</td>\n",
              "      <td>94.0</td>\n",
              "      <td>left</td>\n",
              "    </tr>\n",
              "    <tr>\n",
              "      <th>102484</th>\n",
              "      <td>Lionel Messi</td>\n",
              "      <td>170.18</td>\n",
              "      <td>94.0</td>\n",
              "      <td>95.0</td>\n",
              "      <td>left</td>\n",
              "    </tr>\n",
              "    <tr>\n",
              "      <th>102491</th>\n",
              "      <td>Lionel Messi</td>\n",
              "      <td>170.18</td>\n",
              "      <td>94.0</td>\n",
              "      <td>97.0</td>\n",
              "      <td>left</td>\n",
              "    </tr>\n",
              "    <tr>\n",
              "      <th>102492</th>\n",
              "      <td>Lionel Messi</td>\n",
              "      <td>170.18</td>\n",
              "      <td>94.0</td>\n",
              "      <td>97.0</td>\n",
              "      <td>left</td>\n",
              "    </tr>\n",
              "    <tr>\n",
              "      <th>102493</th>\n",
              "      <td>Lionel Messi</td>\n",
              "      <td>170.18</td>\n",
              "      <td>94.0</td>\n",
              "      <td>97.0</td>\n",
              "      <td>left</td>\n",
              "    </tr>\n",
              "    <tr>\n",
              "      <th>102494</th>\n",
              "      <td>Lionel Messi</td>\n",
              "      <td>170.18</td>\n",
              "      <td>94.0</td>\n",
              "      <td>97.0</td>\n",
              "      <td>left</td>\n",
              "    </tr>\n",
              "    <tr>\n",
              "      <th>102495</th>\n",
              "      <td>Lionel Messi</td>\n",
              "      <td>170.18</td>\n",
              "      <td>94.0</td>\n",
              "      <td>97.0</td>\n",
              "      <td>left</td>\n",
              "    </tr>\n",
              "    <tr>\n",
              "      <th>102496</th>\n",
              "      <td>Lionel Messi</td>\n",
              "      <td>170.18</td>\n",
              "      <td>94.0</td>\n",
              "      <td>97.0</td>\n",
              "      <td>left</td>\n",
              "    </tr>\n",
              "    <tr>\n",
              "      <th>102497</th>\n",
              "      <td>Lionel Messi</td>\n",
              "      <td>170.18</td>\n",
              "      <td>94.0</td>\n",
              "      <td>96.0</td>\n",
              "      <td>left</td>\n",
              "    </tr>\n",
              "    <tr>\n",
              "      <th>102498</th>\n",
              "      <td>Lionel Messi</td>\n",
              "      <td>170.18</td>\n",
              "      <td>94.0</td>\n",
              "      <td>96.0</td>\n",
              "      <td>left</td>\n",
              "    </tr>\n",
              "    <tr>\n",
              "      <th>102499</th>\n",
              "      <td>Lionel Messi</td>\n",
              "      <td>170.18</td>\n",
              "      <td>94.0</td>\n",
              "      <td>96.0</td>\n",
              "      <td>left</td>\n",
              "    </tr>\n",
              "  </tbody>\n",
              "</table>\n",
              "</div>"
            ],
            "text/plain": [
              "         player_name  height  overall_rating  potential preferred_foot\n",
              "102482  Lionel Messi  170.18            94.0       94.0           left\n",
              "102483  Lionel Messi  170.18            94.0       94.0           left\n",
              "102484  Lionel Messi  170.18            94.0       95.0           left\n",
              "102491  Lionel Messi  170.18            94.0       97.0           left\n",
              "102492  Lionel Messi  170.18            94.0       97.0           left\n",
              "102493  Lionel Messi  170.18            94.0       97.0           left\n",
              "102494  Lionel Messi  170.18            94.0       97.0           left\n",
              "102495  Lionel Messi  170.18            94.0       97.0           left\n",
              "102496  Lionel Messi  170.18            94.0       97.0           left\n",
              "102497  Lionel Messi  170.18            94.0       96.0           left\n",
              "102498  Lionel Messi  170.18            94.0       96.0           left\n",
              "102499  Lionel Messi  170.18            94.0       96.0           left"
            ]
          },
          "execution_count": 31,
          "metadata": {},
          "output_type": "execute_result"
        }
      ],
      "source": [
        "# Starting with the player of the best overall rating\n",
        "df_players_combined.query('overall_rating==overall_rating.max()').iloc[:,[2,6,11,12,13]]"
      ]
    },
    {
      "cell_type": "markdown",
      "id": "e3643aca",
      "metadata": {
        "id": "e3643aca"
      },
      "source": [
        "So, apparently **Messi is the GOAT !**"
      ]
    },
    {
      "cell_type": "markdown",
      "id": "87fcfbe0",
      "metadata": {
        "id": "87fcfbe0"
      },
      "source": [
        "#### Question (7): Who is the player with the best Potential?"
      ]
    },
    {
      "cell_type": "code",
      "execution_count": null,
      "id": "98fd3e66",
      "metadata": {
        "id": "98fd3e66",
        "outputId": "0bc8134b-5e72-40a1-f73d-5c589fbc5a14"
      },
      "outputs": [
        {
          "data": {
            "text/html": [
              "<div>\n",
              "<style scoped>\n",
              "    .dataframe tbody tr th:only-of-type {\n",
              "        vertical-align: middle;\n",
              "    }\n",
              "\n",
              "    .dataframe tbody tr th {\n",
              "        vertical-align: top;\n",
              "    }\n",
              "\n",
              "    .dataframe thead th {\n",
              "        text-align: right;\n",
              "    }\n",
              "</style>\n",
              "<table border=\"1\" class=\"dataframe\">\n",
              "  <thead>\n",
              "    <tr style=\"text-align: right;\">\n",
              "      <th></th>\n",
              "      <th>player_name</th>\n",
              "      <th>height</th>\n",
              "      <th>overall_rating</th>\n",
              "      <th>potential</th>\n",
              "      <th>preferred_foot</th>\n",
              "    </tr>\n",
              "  </thead>\n",
              "  <tbody>\n",
              "    <tr>\n",
              "      <th>102491</th>\n",
              "      <td>Lionel Messi</td>\n",
              "      <td>170.18</td>\n",
              "      <td>94.0</td>\n",
              "      <td>97.0</td>\n",
              "      <td>left</td>\n",
              "    </tr>\n",
              "    <tr>\n",
              "      <th>102492</th>\n",
              "      <td>Lionel Messi</td>\n",
              "      <td>170.18</td>\n",
              "      <td>94.0</td>\n",
              "      <td>97.0</td>\n",
              "      <td>left</td>\n",
              "    </tr>\n",
              "    <tr>\n",
              "      <th>102493</th>\n",
              "      <td>Lionel Messi</td>\n",
              "      <td>170.18</td>\n",
              "      <td>94.0</td>\n",
              "      <td>97.0</td>\n",
              "      <td>left</td>\n",
              "    </tr>\n",
              "    <tr>\n",
              "      <th>102494</th>\n",
              "      <td>Lionel Messi</td>\n",
              "      <td>170.18</td>\n",
              "      <td>94.0</td>\n",
              "      <td>97.0</td>\n",
              "      <td>left</td>\n",
              "    </tr>\n",
              "    <tr>\n",
              "      <th>102495</th>\n",
              "      <td>Lionel Messi</td>\n",
              "      <td>170.18</td>\n",
              "      <td>94.0</td>\n",
              "      <td>97.0</td>\n",
              "      <td>left</td>\n",
              "    </tr>\n",
              "    <tr>\n",
              "      <th>102496</th>\n",
              "      <td>Lionel Messi</td>\n",
              "      <td>170.18</td>\n",
              "      <td>94.0</td>\n",
              "      <td>97.0</td>\n",
              "      <td>left</td>\n",
              "    </tr>\n",
              "  </tbody>\n",
              "</table>\n",
              "</div>"
            ],
            "text/plain": [
              "         player_name  height  overall_rating  potential preferred_foot\n",
              "102491  Lionel Messi  170.18            94.0       97.0           left\n",
              "102492  Lionel Messi  170.18            94.0       97.0           left\n",
              "102493  Lionel Messi  170.18            94.0       97.0           left\n",
              "102494  Lionel Messi  170.18            94.0       97.0           left\n",
              "102495  Lionel Messi  170.18            94.0       97.0           left\n",
              "102496  Lionel Messi  170.18            94.0       97.0           left"
            ]
          },
          "execution_count": 32,
          "metadata": {},
          "output_type": "execute_result"
        }
      ],
      "source": [
        "# Let's get with the player of the best potential\n",
        "df_players_combined.query('potential==potential.max()').iloc[:,[2,6,11,12,13]]"
      ]
    },
    {
      "cell_type": "markdown",
      "id": "92596929",
      "metadata": {
        "id": "92596929"
      },
      "source": [
        "**The GOAT** once and again"
      ]
    },
    {
      "cell_type": "markdown",
      "id": "1d221630",
      "metadata": {
        "id": "1d221630"
      },
      "source": [
        "#### Question (8): Who is the player who got the most penalties?"
      ]
    },
    {
      "cell_type": "code",
      "execution_count": null,
      "id": "bef2ad0c",
      "metadata": {
        "id": "bef2ad0c",
        "outputId": "bbd0cbd0-427f-4a2a-bb1c-6cbb70b1a46d"
      },
      "outputs": [
        {
          "data": {
            "text/html": [
              "<div>\n",
              "<style scoped>\n",
              "    .dataframe tbody tr th:only-of-type {\n",
              "        vertical-align: middle;\n",
              "    }\n",
              "\n",
              "    .dataframe tbody tr th {\n",
              "        vertical-align: top;\n",
              "    }\n",
              "\n",
              "    .dataframe thead th {\n",
              "        text-align: right;\n",
              "    }\n",
              "</style>\n",
              "<table border=\"1\" class=\"dataframe\">\n",
              "  <thead>\n",
              "    <tr style=\"text-align: right;\">\n",
              "      <th></th>\n",
              "      <th>player_name</th>\n",
              "      <th>height</th>\n",
              "      <th>overall_rating</th>\n",
              "      <th>potential</th>\n",
              "      <th>marking</th>\n",
              "    </tr>\n",
              "  </thead>\n",
              "  <tbody>\n",
              "    <tr>\n",
              "      <th>149591</th>\n",
              "      <td>Rickie Lambert</td>\n",
              "      <td>187.96</td>\n",
              "      <td>75.0</td>\n",
              "      <td>75.0</td>\n",
              "      <td>30.0</td>\n",
              "    </tr>\n",
              "    <tr>\n",
              "      <th>149592</th>\n",
              "      <td>Rickie Lambert</td>\n",
              "      <td>187.96</td>\n",
              "      <td>75.0</td>\n",
              "      <td>75.0</td>\n",
              "      <td>30.0</td>\n",
              "    </tr>\n",
              "    <tr>\n",
              "      <th>149593</th>\n",
              "      <td>Rickie Lambert</td>\n",
              "      <td>187.96</td>\n",
              "      <td>75.0</td>\n",
              "      <td>75.0</td>\n",
              "      <td>30.0</td>\n",
              "    </tr>\n",
              "    <tr>\n",
              "      <th>149594</th>\n",
              "      <td>Rickie Lambert</td>\n",
              "      <td>187.96</td>\n",
              "      <td>75.0</td>\n",
              "      <td>75.0</td>\n",
              "      <td>30.0</td>\n",
              "    </tr>\n",
              "  </tbody>\n",
              "</table>\n",
              "</div>"
            ],
            "text/plain": [
              "           player_name  height  overall_rating  potential  marking\n",
              "149591  Rickie Lambert  187.96            75.0       75.0     30.0\n",
              "149592  Rickie Lambert  187.96            75.0       75.0     30.0\n",
              "149593  Rickie Lambert  187.96            75.0       75.0     30.0\n",
              "149594  Rickie Lambert  187.96            75.0       75.0     30.0"
            ]
          },
          "execution_count": 33,
          "metadata": {},
          "output_type": "execute_result"
        }
      ],
      "source": [
        "# Let's get with the player who got the most penalties\n",
        "df_players_combined.query('penalties==penalties.max()').iloc[:,[2,6,11,12,41]]"
      ]
    },
    {
      "cell_type": "markdown",
      "id": "8566ea89",
      "metadata": {
        "id": "8566ea89"
      },
      "source": [
        "#### Question (9): Who is the player that is the best at free kicks?"
      ]
    },
    {
      "cell_type": "code",
      "execution_count": null,
      "id": "5df3f8dc",
      "metadata": {
        "id": "5df3f8dc",
        "outputId": "56167191-abd0-4a9c-b635-b00edf1ced74"
      },
      "outputs": [
        {
          "data": {
            "text/html": [
              "<div>\n",
              "<style scoped>\n",
              "    .dataframe tbody tr th:only-of-type {\n",
              "        vertical-align: middle;\n",
              "    }\n",
              "\n",
              "    .dataframe tbody tr th {\n",
              "        vertical-align: top;\n",
              "    }\n",
              "\n",
              "    .dataframe thead th {\n",
              "        text-align: right;\n",
              "    }\n",
              "</style>\n",
              "<table border=\"1\" class=\"dataframe\">\n",
              "  <thead>\n",
              "    <tr style=\"text-align: right;\">\n",
              "      <th></th>\n",
              "      <th>player_name</th>\n",
              "      <th>height</th>\n",
              "      <th>overall_rating</th>\n",
              "      <th>potential</th>\n",
              "      <th>long_passing</th>\n",
              "    </tr>\n",
              "  </thead>\n",
              "  <tbody>\n",
              "    <tr>\n",
              "      <th>92152</th>\n",
              "      <td>Juninho Pernambucano,20</td>\n",
              "      <td>177.8</td>\n",
              "      <td>83.0</td>\n",
              "      <td>89.0</td>\n",
              "      <td>83.0</td>\n",
              "    </tr>\n",
              "  </tbody>\n",
              "</table>\n",
              "</div>"
            ],
            "text/plain": [
              "                   player_name  height  overall_rating  potential  \\\n",
              "92152  Juninho Pernambucano,20   177.8            83.0       89.0   \n",
              "\n",
              "       long_passing  \n",
              "92152          83.0  "
            ]
          },
          "execution_count": 33,
          "metadata": {},
          "output_type": "execute_result"
        }
      ],
      "source": [
        "# Let's get with the player who is the best at free kicks\n",
        "df_players_combined.query('free_kick_accuracy==free_kick_accuracy.max()').iloc[:,[2,6,11,12,24]]"
      ]
    },
    {
      "cell_type": "markdown",
      "id": "ae2fa658",
      "metadata": {
        "id": "ae2fa658"
      },
      "source": [
        "#### Question (10): Who is the fastest player?"
      ]
    },
    {
      "cell_type": "code",
      "execution_count": null,
      "id": "e812e7d0",
      "metadata": {
        "id": "e812e7d0",
        "outputId": "41ffd7f5-55ec-41a1-a01a-73bd3a5f41b6"
      },
      "outputs": [
        {
          "data": {
            "text/html": [
              "<div>\n",
              "<style scoped>\n",
              "    .dataframe tbody tr th:only-of-type {\n",
              "        vertical-align: middle;\n",
              "    }\n",
              "\n",
              "    .dataframe tbody tr th {\n",
              "        vertical-align: top;\n",
              "    }\n",
              "\n",
              "    .dataframe thead th {\n",
              "        text-align: right;\n",
              "    }\n",
              "</style>\n",
              "<table border=\"1\" class=\"dataframe\">\n",
              "  <thead>\n",
              "    <tr style=\"text-align: right;\">\n",
              "      <th></th>\n",
              "      <th>player_name</th>\n",
              "      <th>height</th>\n",
              "      <th>overall_rating</th>\n",
              "      <th>potential</th>\n",
              "      <th>agility</th>\n",
              "      <th>sprint_speed</th>\n",
              "    </tr>\n",
              "  </thead>\n",
              "  <tbody>\n",
              "    <tr>\n",
              "      <th>40183</th>\n",
              "      <td>David Odonkor</td>\n",
              "      <td>172.72</td>\n",
              "      <td>70.0</td>\n",
              "      <td>80.0</td>\n",
              "      <td>75.0</td>\n",
              "      <td>97.0</td>\n",
              "    </tr>\n",
              "    <tr>\n",
              "      <th>118395</th>\n",
              "      <td>Mathis Bolly</td>\n",
              "      <td>185.42</td>\n",
              "      <td>64.0</td>\n",
              "      <td>69.0</td>\n",
              "      <td>73.0</td>\n",
              "      <td>97.0</td>\n",
              "    </tr>\n",
              "    <tr>\n",
              "      <th>118396</th>\n",
              "      <td>Mathis Bolly</td>\n",
              "      <td>185.42</td>\n",
              "      <td>64.0</td>\n",
              "      <td>71.0</td>\n",
              "      <td>73.0</td>\n",
              "      <td>97.0</td>\n",
              "    </tr>\n",
              "    <tr>\n",
              "      <th>118397</th>\n",
              "      <td>Mathis Bolly</td>\n",
              "      <td>185.42</td>\n",
              "      <td>64.0</td>\n",
              "      <td>72.0</td>\n",
              "      <td>73.0</td>\n",
              "      <td>97.0</td>\n",
              "    </tr>\n",
              "    <tr>\n",
              "      <th>118398</th>\n",
              "      <td>Mathis Bolly</td>\n",
              "      <td>185.42</td>\n",
              "      <td>64.0</td>\n",
              "      <td>72.0</td>\n",
              "      <td>73.0</td>\n",
              "      <td>97.0</td>\n",
              "    </tr>\n",
              "    <tr>\n",
              "      <th>118399</th>\n",
              "      <td>Mathis Bolly</td>\n",
              "      <td>185.42</td>\n",
              "      <td>64.0</td>\n",
              "      <td>71.0</td>\n",
              "      <td>73.0</td>\n",
              "      <td>97.0</td>\n",
              "    </tr>\n",
              "    <tr>\n",
              "      <th>118400</th>\n",
              "      <td>Mathis Bolly</td>\n",
              "      <td>185.42</td>\n",
              "      <td>65.0</td>\n",
              "      <td>71.0</td>\n",
              "      <td>74.0</td>\n",
              "      <td>97.0</td>\n",
              "    </tr>\n",
              "    <tr>\n",
              "      <th>118401</th>\n",
              "      <td>Mathis Bolly</td>\n",
              "      <td>185.42</td>\n",
              "      <td>65.0</td>\n",
              "      <td>71.0</td>\n",
              "      <td>74.0</td>\n",
              "      <td>97.0</td>\n",
              "    </tr>\n",
              "    <tr>\n",
              "      <th>118402</th>\n",
              "      <td>Mathis Bolly</td>\n",
              "      <td>185.42</td>\n",
              "      <td>65.0</td>\n",
              "      <td>72.0</td>\n",
              "      <td>74.0</td>\n",
              "      <td>97.0</td>\n",
              "    </tr>\n",
              "    <tr>\n",
              "      <th>118403</th>\n",
              "      <td>Mathis Bolly</td>\n",
              "      <td>185.42</td>\n",
              "      <td>65.0</td>\n",
              "      <td>72.0</td>\n",
              "      <td>74.0</td>\n",
              "      <td>97.0</td>\n",
              "    </tr>\n",
              "    <tr>\n",
              "      <th>118404</th>\n",
              "      <td>Mathis Bolly</td>\n",
              "      <td>185.42</td>\n",
              "      <td>65.0</td>\n",
              "      <td>73.0</td>\n",
              "      <td>74.0</td>\n",
              "      <td>97.0</td>\n",
              "    </tr>\n",
              "    <tr>\n",
              "      <th>118405</th>\n",
              "      <td>Mathis Bolly</td>\n",
              "      <td>185.42</td>\n",
              "      <td>65.0</td>\n",
              "      <td>73.0</td>\n",
              "      <td>74.0</td>\n",
              "      <td>97.0</td>\n",
              "    </tr>\n",
              "    <tr>\n",
              "      <th>118406</th>\n",
              "      <td>Mathis Bolly</td>\n",
              "      <td>185.42</td>\n",
              "      <td>65.0</td>\n",
              "      <td>73.0</td>\n",
              "      <td>74.0</td>\n",
              "      <td>97.0</td>\n",
              "    </tr>\n",
              "    <tr>\n",
              "      <th>118407</th>\n",
              "      <td>Mathis Bolly</td>\n",
              "      <td>185.42</td>\n",
              "      <td>65.0</td>\n",
              "      <td>73.0</td>\n",
              "      <td>74.0</td>\n",
              "      <td>97.0</td>\n",
              "    </tr>\n",
              "    <tr>\n",
              "      <th>118408</th>\n",
              "      <td>Mathis Bolly</td>\n",
              "      <td>185.42</td>\n",
              "      <td>65.0</td>\n",
              "      <td>73.0</td>\n",
              "      <td>78.0</td>\n",
              "      <td>97.0</td>\n",
              "    </tr>\n",
              "    <tr>\n",
              "      <th>118409</th>\n",
              "      <td>Mathis Bolly</td>\n",
              "      <td>185.42</td>\n",
              "      <td>66.0</td>\n",
              "      <td>73.0</td>\n",
              "      <td>78.0</td>\n",
              "      <td>97.0</td>\n",
              "    </tr>\n",
              "    <tr>\n",
              "      <th>118410</th>\n",
              "      <td>Mathis Bolly</td>\n",
              "      <td>185.42</td>\n",
              "      <td>64.0</td>\n",
              "      <td>72.0</td>\n",
              "      <td>78.0</td>\n",
              "      <td>97.0</td>\n",
              "    </tr>\n",
              "    <tr>\n",
              "      <th>118411</th>\n",
              "      <td>Mathis Bolly</td>\n",
              "      <td>185.42</td>\n",
              "      <td>64.0</td>\n",
              "      <td>72.0</td>\n",
              "      <td>78.0</td>\n",
              "      <td>97.0</td>\n",
              "    </tr>\n",
              "    <tr>\n",
              "      <th>118412</th>\n",
              "      <td>Mathis Bolly</td>\n",
              "      <td>185.42</td>\n",
              "      <td>64.0</td>\n",
              "      <td>72.0</td>\n",
              "      <td>78.0</td>\n",
              "      <td>97.0</td>\n",
              "    </tr>\n",
              "    <tr>\n",
              "      <th>118413</th>\n",
              "      <td>Mathis Bolly</td>\n",
              "      <td>185.42</td>\n",
              "      <td>64.0</td>\n",
              "      <td>73.0</td>\n",
              "      <td>78.0</td>\n",
              "      <td>97.0</td>\n",
              "    </tr>\n",
              "    <tr>\n",
              "      <th>118414</th>\n",
              "      <td>Mathis Bolly</td>\n",
              "      <td>185.42</td>\n",
              "      <td>64.0</td>\n",
              "      <td>71.0</td>\n",
              "      <td>78.0</td>\n",
              "      <td>97.0</td>\n",
              "    </tr>\n",
              "    <tr>\n",
              "      <th>118415</th>\n",
              "      <td>Mathis Bolly</td>\n",
              "      <td>185.42</td>\n",
              "      <td>64.0</td>\n",
              "      <td>71.0</td>\n",
              "      <td>78.0</td>\n",
              "      <td>97.0</td>\n",
              "    </tr>\n",
              "    <tr>\n",
              "      <th>118416</th>\n",
              "      <td>Mathis Bolly</td>\n",
              "      <td>185.42</td>\n",
              "      <td>63.0</td>\n",
              "      <td>71.0</td>\n",
              "      <td>78.0</td>\n",
              "      <td>97.0</td>\n",
              "    </tr>\n",
              "    <tr>\n",
              "      <th>118417</th>\n",
              "      <td>Mathis Bolly</td>\n",
              "      <td>185.42</td>\n",
              "      <td>63.0</td>\n",
              "      <td>71.0</td>\n",
              "      <td>78.0</td>\n",
              "      <td>97.0</td>\n",
              "    </tr>\n",
              "  </tbody>\n",
              "</table>\n",
              "</div>"
            ],
            "text/plain": [
              "          player_name  height  overall_rating  potential  agility  \\\n",
              "40183   David Odonkor  172.72            70.0       80.0     75.0   \n",
              "118395   Mathis Bolly  185.42            64.0       69.0     73.0   \n",
              "118396   Mathis Bolly  185.42            64.0       71.0     73.0   \n",
              "118397   Mathis Bolly  185.42            64.0       72.0     73.0   \n",
              "118398   Mathis Bolly  185.42            64.0       72.0     73.0   \n",
              "118399   Mathis Bolly  185.42            64.0       71.0     73.0   \n",
              "118400   Mathis Bolly  185.42            65.0       71.0     74.0   \n",
              "118401   Mathis Bolly  185.42            65.0       71.0     74.0   \n",
              "118402   Mathis Bolly  185.42            65.0       72.0     74.0   \n",
              "118403   Mathis Bolly  185.42            65.0       72.0     74.0   \n",
              "118404   Mathis Bolly  185.42            65.0       73.0     74.0   \n",
              "118405   Mathis Bolly  185.42            65.0       73.0     74.0   \n",
              "118406   Mathis Bolly  185.42            65.0       73.0     74.0   \n",
              "118407   Mathis Bolly  185.42            65.0       73.0     74.0   \n",
              "118408   Mathis Bolly  185.42            65.0       73.0     78.0   \n",
              "118409   Mathis Bolly  185.42            66.0       73.0     78.0   \n",
              "118410   Mathis Bolly  185.42            64.0       72.0     78.0   \n",
              "118411   Mathis Bolly  185.42            64.0       72.0     78.0   \n",
              "118412   Mathis Bolly  185.42            64.0       72.0     78.0   \n",
              "118413   Mathis Bolly  185.42            64.0       73.0     78.0   \n",
              "118414   Mathis Bolly  185.42            64.0       71.0     78.0   \n",
              "118415   Mathis Bolly  185.42            64.0       71.0     78.0   \n",
              "118416   Mathis Bolly  185.42            63.0       71.0     78.0   \n",
              "118417   Mathis Bolly  185.42            63.0       71.0     78.0   \n",
              "\n",
              "        sprint_speed  \n",
              "40183           97.0  \n",
              "118395          97.0  \n",
              "118396          97.0  \n",
              "118397          97.0  \n",
              "118398          97.0  \n",
              "118399          97.0  \n",
              "118400          97.0  \n",
              "118401          97.0  \n",
              "118402          97.0  \n",
              "118403          97.0  \n",
              "118404          97.0  \n",
              "118405          97.0  \n",
              "118406          97.0  \n",
              "118407          97.0  \n",
              "118408          97.0  \n",
              "118409          97.0  \n",
              "118410          97.0  \n",
              "118411          97.0  \n",
              "118412          97.0  \n",
              "118413          97.0  \n",
              "118414          97.0  \n",
              "118415          97.0  \n",
              "118416          97.0  \n",
              "118417          97.0  "
            ]
          },
          "execution_count": 34,
          "metadata": {},
          "output_type": "execute_result"
        }
      ],
      "source": [
        "# Let's get with the fastest players (first with sprint speed)\n",
        "df_players_combined.query('sprint_speed==sprint_speed.max()').iloc[:,[2,6,11,12,28,27]]"
      ]
    },
    {
      "cell_type": "code",
      "execution_count": null,
      "id": "00926013",
      "metadata": {
        "id": "00926013",
        "outputId": "83fc23eb-7737-49ef-8c6b-30f67cb39fc8"
      },
      "outputs": [
        {
          "data": {
            "text/html": [
              "<div>\n",
              "<style scoped>\n",
              "    .dataframe tbody tr th:only-of-type {\n",
              "        vertical-align: middle;\n",
              "    }\n",
              "\n",
              "    .dataframe tbody tr th {\n",
              "        vertical-align: top;\n",
              "    }\n",
              "\n",
              "    .dataframe thead th {\n",
              "        text-align: right;\n",
              "    }\n",
              "</style>\n",
              "<table border=\"1\" class=\"dataframe\">\n",
              "  <thead>\n",
              "    <tr style=\"text-align: right;\">\n",
              "      <th></th>\n",
              "      <th>player_name</th>\n",
              "      <th>height</th>\n",
              "      <th>overall_rating</th>\n",
              "      <th>potential</th>\n",
              "      <th>sprint_speed</th>\n",
              "      <th>agility</th>\n",
              "    </tr>\n",
              "  </thead>\n",
              "  <tbody>\n",
              "    <tr>\n",
              "      <th>26998</th>\n",
              "      <td>Cedric</td>\n",
              "      <td>167.64</td>\n",
              "      <td>71.0</td>\n",
              "      <td>77.0</td>\n",
              "      <td>90.0</td>\n",
              "      <td>91.0</td>\n",
              "    </tr>\n",
              "    <tr>\n",
              "      <th>26999</th>\n",
              "      <td>Cedric</td>\n",
              "      <td>167.64</td>\n",
              "      <td>71.0</td>\n",
              "      <td>77.0</td>\n",
              "      <td>90.0</td>\n",
              "      <td>91.0</td>\n",
              "    </tr>\n",
              "    <tr>\n",
              "      <th>118391</th>\n",
              "      <td>Mathis Bolly</td>\n",
              "      <td>185.42</td>\n",
              "      <td>67.0</td>\n",
              "      <td>71.0</td>\n",
              "      <td>96.0</td>\n",
              "      <td>73.0</td>\n",
              "    </tr>\n",
              "    <tr>\n",
              "      <th>118392</th>\n",
              "      <td>Mathis Bolly</td>\n",
              "      <td>185.42</td>\n",
              "      <td>67.0</td>\n",
              "      <td>72.0</td>\n",
              "      <td>96.0</td>\n",
              "      <td>73.0</td>\n",
              "    </tr>\n",
              "    <tr>\n",
              "      <th>118393</th>\n",
              "      <td>Mathis Bolly</td>\n",
              "      <td>185.42</td>\n",
              "      <td>67.0</td>\n",
              "      <td>72.0</td>\n",
              "      <td>96.0</td>\n",
              "      <td>73.0</td>\n",
              "    </tr>\n",
              "    <tr>\n",
              "      <th>118394</th>\n",
              "      <td>Mathis Bolly</td>\n",
              "      <td>185.42</td>\n",
              "      <td>67.0</td>\n",
              "      <td>71.0</td>\n",
              "      <td>96.0</td>\n",
              "      <td>73.0</td>\n",
              "    </tr>\n",
              "    <tr>\n",
              "      <th>118395</th>\n",
              "      <td>Mathis Bolly</td>\n",
              "      <td>185.42</td>\n",
              "      <td>64.0</td>\n",
              "      <td>69.0</td>\n",
              "      <td>97.0</td>\n",
              "      <td>73.0</td>\n",
              "    </tr>\n",
              "    <tr>\n",
              "      <th>118396</th>\n",
              "      <td>Mathis Bolly</td>\n",
              "      <td>185.42</td>\n",
              "      <td>64.0</td>\n",
              "      <td>71.0</td>\n",
              "      <td>97.0</td>\n",
              "      <td>73.0</td>\n",
              "    </tr>\n",
              "    <tr>\n",
              "      <th>118397</th>\n",
              "      <td>Mathis Bolly</td>\n",
              "      <td>185.42</td>\n",
              "      <td>64.0</td>\n",
              "      <td>72.0</td>\n",
              "      <td>97.0</td>\n",
              "      <td>73.0</td>\n",
              "    </tr>\n",
              "    <tr>\n",
              "      <th>118398</th>\n",
              "      <td>Mathis Bolly</td>\n",
              "      <td>185.42</td>\n",
              "      <td>64.0</td>\n",
              "      <td>72.0</td>\n",
              "      <td>97.0</td>\n",
              "      <td>73.0</td>\n",
              "    </tr>\n",
              "    <tr>\n",
              "      <th>118399</th>\n",
              "      <td>Mathis Bolly</td>\n",
              "      <td>185.42</td>\n",
              "      <td>64.0</td>\n",
              "      <td>71.0</td>\n",
              "      <td>97.0</td>\n",
              "      <td>73.0</td>\n",
              "    </tr>\n",
              "    <tr>\n",
              "      <th>118400</th>\n",
              "      <td>Mathis Bolly</td>\n",
              "      <td>185.42</td>\n",
              "      <td>65.0</td>\n",
              "      <td>71.0</td>\n",
              "      <td>97.0</td>\n",
              "      <td>74.0</td>\n",
              "    </tr>\n",
              "    <tr>\n",
              "      <th>118401</th>\n",
              "      <td>Mathis Bolly</td>\n",
              "      <td>185.42</td>\n",
              "      <td>65.0</td>\n",
              "      <td>71.0</td>\n",
              "      <td>97.0</td>\n",
              "      <td>74.0</td>\n",
              "    </tr>\n",
              "    <tr>\n",
              "      <th>118402</th>\n",
              "      <td>Mathis Bolly</td>\n",
              "      <td>185.42</td>\n",
              "      <td>65.0</td>\n",
              "      <td>72.0</td>\n",
              "      <td>97.0</td>\n",
              "      <td>74.0</td>\n",
              "    </tr>\n",
              "    <tr>\n",
              "      <th>118403</th>\n",
              "      <td>Mathis Bolly</td>\n",
              "      <td>185.42</td>\n",
              "      <td>65.0</td>\n",
              "      <td>72.0</td>\n",
              "      <td>97.0</td>\n",
              "      <td>74.0</td>\n",
              "    </tr>\n",
              "    <tr>\n",
              "      <th>118404</th>\n",
              "      <td>Mathis Bolly</td>\n",
              "      <td>185.42</td>\n",
              "      <td>65.0</td>\n",
              "      <td>73.0</td>\n",
              "      <td>97.0</td>\n",
              "      <td>74.0</td>\n",
              "    </tr>\n",
              "    <tr>\n",
              "      <th>118405</th>\n",
              "      <td>Mathis Bolly</td>\n",
              "      <td>185.42</td>\n",
              "      <td>65.0</td>\n",
              "      <td>73.0</td>\n",
              "      <td>97.0</td>\n",
              "      <td>74.0</td>\n",
              "    </tr>\n",
              "    <tr>\n",
              "      <th>118406</th>\n",
              "      <td>Mathis Bolly</td>\n",
              "      <td>185.42</td>\n",
              "      <td>65.0</td>\n",
              "      <td>73.0</td>\n",
              "      <td>97.0</td>\n",
              "      <td>74.0</td>\n",
              "    </tr>\n",
              "    <tr>\n",
              "      <th>118407</th>\n",
              "      <td>Mathis Bolly</td>\n",
              "      <td>185.42</td>\n",
              "      <td>65.0</td>\n",
              "      <td>73.0</td>\n",
              "      <td>97.0</td>\n",
              "      <td>74.0</td>\n",
              "    </tr>\n",
              "    <tr>\n",
              "      <th>118408</th>\n",
              "      <td>Mathis Bolly</td>\n",
              "      <td>185.42</td>\n",
              "      <td>65.0</td>\n",
              "      <td>73.0</td>\n",
              "      <td>97.0</td>\n",
              "      <td>78.0</td>\n",
              "    </tr>\n",
              "    <tr>\n",
              "      <th>118409</th>\n",
              "      <td>Mathis Bolly</td>\n",
              "      <td>185.42</td>\n",
              "      <td>66.0</td>\n",
              "      <td>73.0</td>\n",
              "      <td>97.0</td>\n",
              "      <td>78.0</td>\n",
              "    </tr>\n",
              "    <tr>\n",
              "      <th>118410</th>\n",
              "      <td>Mathis Bolly</td>\n",
              "      <td>185.42</td>\n",
              "      <td>64.0</td>\n",
              "      <td>72.0</td>\n",
              "      <td>97.0</td>\n",
              "      <td>78.0</td>\n",
              "    </tr>\n",
              "    <tr>\n",
              "      <th>118411</th>\n",
              "      <td>Mathis Bolly</td>\n",
              "      <td>185.42</td>\n",
              "      <td>64.0</td>\n",
              "      <td>72.0</td>\n",
              "      <td>97.0</td>\n",
              "      <td>78.0</td>\n",
              "    </tr>\n",
              "    <tr>\n",
              "      <th>118412</th>\n",
              "      <td>Mathis Bolly</td>\n",
              "      <td>185.42</td>\n",
              "      <td>64.0</td>\n",
              "      <td>72.0</td>\n",
              "      <td>97.0</td>\n",
              "      <td>78.0</td>\n",
              "    </tr>\n",
              "    <tr>\n",
              "      <th>118413</th>\n",
              "      <td>Mathis Bolly</td>\n",
              "      <td>185.42</td>\n",
              "      <td>64.0</td>\n",
              "      <td>73.0</td>\n",
              "      <td>97.0</td>\n",
              "      <td>78.0</td>\n",
              "    </tr>\n",
              "    <tr>\n",
              "      <th>118414</th>\n",
              "      <td>Mathis Bolly</td>\n",
              "      <td>185.42</td>\n",
              "      <td>64.0</td>\n",
              "      <td>71.0</td>\n",
              "      <td>97.0</td>\n",
              "      <td>78.0</td>\n",
              "    </tr>\n",
              "    <tr>\n",
              "      <th>118415</th>\n",
              "      <td>Mathis Bolly</td>\n",
              "      <td>185.42</td>\n",
              "      <td>64.0</td>\n",
              "      <td>71.0</td>\n",
              "      <td>97.0</td>\n",
              "      <td>78.0</td>\n",
              "    </tr>\n",
              "    <tr>\n",
              "      <th>118416</th>\n",
              "      <td>Mathis Bolly</td>\n",
              "      <td>185.42</td>\n",
              "      <td>63.0</td>\n",
              "      <td>71.0</td>\n",
              "      <td>97.0</td>\n",
              "      <td>78.0</td>\n",
              "    </tr>\n",
              "    <tr>\n",
              "      <th>118417</th>\n",
              "      <td>Mathis Bolly</td>\n",
              "      <td>185.42</td>\n",
              "      <td>63.0</td>\n",
              "      <td>71.0</td>\n",
              "      <td>97.0</td>\n",
              "      <td>78.0</td>\n",
              "    </tr>\n",
              "    <tr>\n",
              "      <th>169543</th>\n",
              "      <td>Theo Walcott</td>\n",
              "      <td>175.26</td>\n",
              "      <td>80.0</td>\n",
              "      <td>82.0</td>\n",
              "      <td>96.0</td>\n",
              "      <td>83.0</td>\n",
              "    </tr>\n",
              "    <tr>\n",
              "      <th>169544</th>\n",
              "      <td>Theo Walcott</td>\n",
              "      <td>175.26</td>\n",
              "      <td>81.0</td>\n",
              "      <td>83.0</td>\n",
              "      <td>96.0</td>\n",
              "      <td>83.0</td>\n",
              "    </tr>\n",
              "    <tr>\n",
              "      <th>169545</th>\n",
              "      <td>Theo Walcott</td>\n",
              "      <td>175.26</td>\n",
              "      <td>81.0</td>\n",
              "      <td>85.0</td>\n",
              "      <td>96.0</td>\n",
              "      <td>83.0</td>\n",
              "    </tr>\n",
              "    <tr>\n",
              "      <th>169546</th>\n",
              "      <td>Theo Walcott</td>\n",
              "      <td>175.26</td>\n",
              "      <td>81.0</td>\n",
              "      <td>85.0</td>\n",
              "      <td>96.0</td>\n",
              "      <td>83.0</td>\n",
              "    </tr>\n",
              "    <tr>\n",
              "      <th>169547</th>\n",
              "      <td>Theo Walcott</td>\n",
              "      <td>175.26</td>\n",
              "      <td>81.0</td>\n",
              "      <td>85.0</td>\n",
              "      <td>96.0</td>\n",
              "      <td>83.0</td>\n",
              "    </tr>\n",
              "    <tr>\n",
              "      <th>169548</th>\n",
              "      <td>Theo Walcott</td>\n",
              "      <td>175.26</td>\n",
              "      <td>81.0</td>\n",
              "      <td>85.0</td>\n",
              "      <td>96.0</td>\n",
              "      <td>83.0</td>\n",
              "    </tr>\n",
              "    <tr>\n",
              "      <th>169549</th>\n",
              "      <td>Theo Walcott</td>\n",
              "      <td>175.26</td>\n",
              "      <td>81.0</td>\n",
              "      <td>85.0</td>\n",
              "      <td>96.0</td>\n",
              "      <td>83.0</td>\n",
              "    </tr>\n",
              "    <tr>\n",
              "      <th>169550</th>\n",
              "      <td>Theo Walcott</td>\n",
              "      <td>175.26</td>\n",
              "      <td>82.0</td>\n",
              "      <td>85.0</td>\n",
              "      <td>96.0</td>\n",
              "      <td>81.0</td>\n",
              "    </tr>\n",
              "    <tr>\n",
              "      <th>169551</th>\n",
              "      <td>Theo Walcott</td>\n",
              "      <td>175.26</td>\n",
              "      <td>81.0</td>\n",
              "      <td>85.0</td>\n",
              "      <td>96.0</td>\n",
              "      <td>81.0</td>\n",
              "    </tr>\n",
              "    <tr>\n",
              "      <th>169552</th>\n",
              "      <td>Theo Walcott</td>\n",
              "      <td>175.26</td>\n",
              "      <td>81.0</td>\n",
              "      <td>85.0</td>\n",
              "      <td>96.0</td>\n",
              "      <td>81.0</td>\n",
              "    </tr>\n",
              "    <tr>\n",
              "      <th>169553</th>\n",
              "      <td>Theo Walcott</td>\n",
              "      <td>175.26</td>\n",
              "      <td>81.0</td>\n",
              "      <td>85.0</td>\n",
              "      <td>96.0</td>\n",
              "      <td>81.0</td>\n",
              "    </tr>\n",
              "    <tr>\n",
              "      <th>169554</th>\n",
              "      <td>Theo Walcott</td>\n",
              "      <td>175.26</td>\n",
              "      <td>81.0</td>\n",
              "      <td>85.0</td>\n",
              "      <td>96.0</td>\n",
              "      <td>81.0</td>\n",
              "    </tr>\n",
              "    <tr>\n",
              "      <th>169555</th>\n",
              "      <td>Theo Walcott</td>\n",
              "      <td>175.26</td>\n",
              "      <td>81.0</td>\n",
              "      <td>85.0</td>\n",
              "      <td>96.0</td>\n",
              "      <td>81.0</td>\n",
              "    </tr>\n",
              "    <tr>\n",
              "      <th>169556</th>\n",
              "      <td>Theo Walcott</td>\n",
              "      <td>175.26</td>\n",
              "      <td>81.0</td>\n",
              "      <td>85.0</td>\n",
              "      <td>96.0</td>\n",
              "      <td>81.0</td>\n",
              "    </tr>\n",
              "    <tr>\n",
              "      <th>169557</th>\n",
              "      <td>Theo Walcott</td>\n",
              "      <td>175.26</td>\n",
              "      <td>81.0</td>\n",
              "      <td>85.0</td>\n",
              "      <td>96.0</td>\n",
              "      <td>81.0</td>\n",
              "    </tr>\n",
              "    <tr>\n",
              "      <th>169558</th>\n",
              "      <td>Theo Walcott</td>\n",
              "      <td>175.26</td>\n",
              "      <td>81.0</td>\n",
              "      <td>85.0</td>\n",
              "      <td>96.0</td>\n",
              "      <td>81.0</td>\n",
              "    </tr>\n",
              "    <tr>\n",
              "      <th>169559</th>\n",
              "      <td>Theo Walcott</td>\n",
              "      <td>175.26</td>\n",
              "      <td>82.0</td>\n",
              "      <td>85.0</td>\n",
              "      <td>96.0</td>\n",
              "      <td>89.0</td>\n",
              "    </tr>\n",
              "    <tr>\n",
              "      <th>169560</th>\n",
              "      <td>Theo Walcott</td>\n",
              "      <td>175.26</td>\n",
              "      <td>82.0</td>\n",
              "      <td>84.0</td>\n",
              "      <td>96.0</td>\n",
              "      <td>89.0</td>\n",
              "    </tr>\n",
              "  </tbody>\n",
              "</table>\n",
              "</div>"
            ],
            "text/plain": [
              "         player_name  height  overall_rating  potential  sprint_speed  agility\n",
              "26998         Cedric  167.64            71.0       77.0          90.0     91.0\n",
              "26999         Cedric  167.64            71.0       77.0          90.0     91.0\n",
              "118391  Mathis Bolly  185.42            67.0       71.0          96.0     73.0\n",
              "118392  Mathis Bolly  185.42            67.0       72.0          96.0     73.0\n",
              "118393  Mathis Bolly  185.42            67.0       72.0          96.0     73.0\n",
              "118394  Mathis Bolly  185.42            67.0       71.0          96.0     73.0\n",
              "118395  Mathis Bolly  185.42            64.0       69.0          97.0     73.0\n",
              "118396  Mathis Bolly  185.42            64.0       71.0          97.0     73.0\n",
              "118397  Mathis Bolly  185.42            64.0       72.0          97.0     73.0\n",
              "118398  Mathis Bolly  185.42            64.0       72.0          97.0     73.0\n",
              "118399  Mathis Bolly  185.42            64.0       71.0          97.0     73.0\n",
              "118400  Mathis Bolly  185.42            65.0       71.0          97.0     74.0\n",
              "118401  Mathis Bolly  185.42            65.0       71.0          97.0     74.0\n",
              "118402  Mathis Bolly  185.42            65.0       72.0          97.0     74.0\n",
              "118403  Mathis Bolly  185.42            65.0       72.0          97.0     74.0\n",
              "118404  Mathis Bolly  185.42            65.0       73.0          97.0     74.0\n",
              "118405  Mathis Bolly  185.42            65.0       73.0          97.0     74.0\n",
              "118406  Mathis Bolly  185.42            65.0       73.0          97.0     74.0\n",
              "118407  Mathis Bolly  185.42            65.0       73.0          97.0     74.0\n",
              "118408  Mathis Bolly  185.42            65.0       73.0          97.0     78.0\n",
              "118409  Mathis Bolly  185.42            66.0       73.0          97.0     78.0\n",
              "118410  Mathis Bolly  185.42            64.0       72.0          97.0     78.0\n",
              "118411  Mathis Bolly  185.42            64.0       72.0          97.0     78.0\n",
              "118412  Mathis Bolly  185.42            64.0       72.0          97.0     78.0\n",
              "118413  Mathis Bolly  185.42            64.0       73.0          97.0     78.0\n",
              "118414  Mathis Bolly  185.42            64.0       71.0          97.0     78.0\n",
              "118415  Mathis Bolly  185.42            64.0       71.0          97.0     78.0\n",
              "118416  Mathis Bolly  185.42            63.0       71.0          97.0     78.0\n",
              "118417  Mathis Bolly  185.42            63.0       71.0          97.0     78.0\n",
              "169543  Theo Walcott  175.26            80.0       82.0          96.0     83.0\n",
              "169544  Theo Walcott  175.26            81.0       83.0          96.0     83.0\n",
              "169545  Theo Walcott  175.26            81.0       85.0          96.0     83.0\n",
              "169546  Theo Walcott  175.26            81.0       85.0          96.0     83.0\n",
              "169547  Theo Walcott  175.26            81.0       85.0          96.0     83.0\n",
              "169548  Theo Walcott  175.26            81.0       85.0          96.0     83.0\n",
              "169549  Theo Walcott  175.26            81.0       85.0          96.0     83.0\n",
              "169550  Theo Walcott  175.26            82.0       85.0          96.0     81.0\n",
              "169551  Theo Walcott  175.26            81.0       85.0          96.0     81.0\n",
              "169552  Theo Walcott  175.26            81.0       85.0          96.0     81.0\n",
              "169553  Theo Walcott  175.26            81.0       85.0          96.0     81.0\n",
              "169554  Theo Walcott  175.26            81.0       85.0          96.0     81.0\n",
              "169555  Theo Walcott  175.26            81.0       85.0          96.0     81.0\n",
              "169556  Theo Walcott  175.26            81.0       85.0          96.0     81.0\n",
              "169557  Theo Walcott  175.26            81.0       85.0          96.0     81.0\n",
              "169558  Theo Walcott  175.26            81.0       85.0          96.0     81.0\n",
              "169559  Theo Walcott  175.26            82.0       85.0          96.0     89.0\n",
              "169560  Theo Walcott  175.26            82.0       84.0          96.0     89.0"
            ]
          },
          "execution_count": 35,
          "metadata": {},
          "output_type": "execute_result"
        }
      ],
      "source": [
        "# Let's get with the fastest players (Now with the acceleration)\n",
        "df_players_combined.query('acceleration==acceleration.max()').iloc[:,[2,6,11,12,27,28]]"
      ]
    },
    {
      "cell_type": "markdown",
      "id": "0584fe86",
      "metadata": {
        "id": "0584fe86"
      },
      "source": [
        "So, apparently **Mathis Bolly** is the only one who is the best at both sprint speed and acceleration"
      ]
    },
    {
      "cell_type": "markdown",
      "id": "5829e358",
      "metadata": {
        "id": "5829e358"
      },
      "source": [
        "#### Question (11): Now let's get to the question of Cristiano or Messi?"
      ]
    },
    {
      "cell_type": "markdown",
      "id": "1b062d9a",
      "metadata": {
        "id": "1b062d9a"
      },
      "source": [
        "Starting of with Cristiano Ronalod, let's explore the average scores of each skill for him"
      ]
    },
    {
      "cell_type": "code",
      "execution_count": null,
      "id": "45581278",
      "metadata": {
        "id": "45581278",
        "outputId": "63ad0fb8-0903-40b2-8212-c8931d33b650"
      },
      "outputs": [
        {
          "data": {
            "image/png": "[encoded data removed]",
            "text/plain": [
              "<Figure size 864x864 with 1 Axes>"
            ]
          },
          "metadata": {
            "needs_background": "light"
          },
          "output_type": "display_data"
        }
      ],
      "source": [
        "cr7= df_players_combined.query('player_name==\"Cristiano Ronaldo\"').iloc[:,11:34]\n",
        "cr7.drop(['preferred_foot','attacking_work_rate','defensive_work_rate'],axis=1,inplace=True)\n",
        "cr7.mean().plot(kind='bar',figsize=(12,12),title='Cristiano Ronaldo');\n",
        "plt.ylabel(\"Skills Score\");\n",
        "plt.show()"
      ]
    },
    {
      "cell_type": "markdown",
      "id": "cf6ba250",
      "metadata": {
        "id": "cf6ba250"
      },
      "source": [
        "Moving on to Messi, let's see the average scores for skills"
      ]
    },
    {
      "cell_type": "code",
      "execution_count": null,
      "id": "329a53af",
      "metadata": {
        "scrolled": true,
        "id": "329a53af",
        "outputId": "50ae9017-5fa1-487b-bcf0-9b79404e16b9"
      },
      "outputs": [
        {
          "data": {
            "image/png": "[encoded data removed]",
            "text/plain": [
              "<Figure size 864x864 with 1 Axes>"
            ]
          },
          "metadata": {
            "needs_background": "light"
          },
          "output_type": "display_data"
        }
      ],
      "source": [
        "messi=df_players_combined.query('player_name==\"Lionel Messi\"').iloc[:,11:34]\n",
        "messi.drop(['preferred_foot','attacking_work_rate','defensive_work_rate'],axis=1,inplace=True)\n",
        "messi.mean().plot(kind='bar',figsize=(12,12),title=\"Messi\");\n",
        "plt.ylabel(\"Skills Score\");\n",
        "plt.show()"
      ]
    },
    {
      "cell_type": "markdown",
      "id": "870aa116",
      "metadata": {
        "id": "870aa116"
      },
      "source": [
        "#### Question(12): Who is the most player who had maximum variation in his overall rating?"
      ]
    },
    {
      "cell_type": "code",
      "execution_count": null,
      "id": "b53a11b7",
      "metadata": {
        "scrolled": false,
        "id": "b53a11b7"
      },
      "outputs": [],
      "source": [
        "#Starting with creating datasets for maximum and minimum overall ratings for all players\n",
        "high_rating=df_players_combined.groupby(['player_name'])['overall_rating'].max().to_frame()\n",
        "low_rating=df_players_combined.groupby(['player_name'])['overall_rating'].min().to_frame()"
      ]
    },
    {
      "cell_type": "code",
      "execution_count": null,
      "id": "8f426925",
      "metadata": {
        "id": "8f426925",
        "outputId": "2cb995b3-d9d1-4471-9f01-246f924bd2a1"
      },
      "outputs": [
        {
          "data": {
            "text/html": [
              "<div>\n",
              "<style scoped>\n",
              "    .dataframe tbody tr th:only-of-type {\n",
              "        vertical-align: middle;\n",
              "    }\n",
              "\n",
              "    .dataframe tbody tr th {\n",
              "        vertical-align: top;\n",
              "    }\n",
              "\n",
              "    .dataframe thead th {\n",
              "        text-align: right;\n",
              "    }\n",
              "</style>\n",
              "<table border=\"1\" class=\"dataframe\">\n",
              "  <thead>\n",
              "    <tr style=\"text-align: right;\">\n",
              "      <th></th>\n",
              "      <th>overall_rating_x</th>\n",
              "      <th>overall_rating_y</th>\n",
              "      <th>Delta</th>\n",
              "    </tr>\n",
              "    <tr>\n",
              "      <th>player_name</th>\n",
              "      <th></th>\n",
              "      <th></th>\n",
              "      <th></th>\n",
              "    </tr>\n",
              "  </thead>\n",
              "  <tbody>\n",
              "    <tr>\n",
              "      <th>Marco Reus</th>\n",
              "      <td>86.0</td>\n",
              "      <td>44.0</td>\n",
              "      <td>42.0</td>\n",
              "    </tr>\n",
              "  </tbody>\n",
              "</table>\n",
              "</div>"
            ],
            "text/plain": [
              "             overall_rating_x  overall_rating_y  Delta\n",
              "player_name                                           \n",
              "Marco Reus               86.0              44.0   42.0"
            ]
          },
          "execution_count": 38,
          "metadata": {},
          "output_type": "execute_result"
        }
      ],
      "source": [
        "#Now let's check who has the greatest difference between his maximum and minimum overall rating\n",
        "diff = high_rating.merge(low_rating, left_on='player_name', right_on='player_name', how='outer')\n",
        "diff.insert(2, \"Delta\",diff.overall_rating_x-diff.overall_rating_y)\n",
        "diff.query('Delta==Delta.max()')"
      ]
    },
    {
      "cell_type": "markdown",
      "id": "f556f80f",
      "metadata": {
        "id": "f556f80f"
      },
      "source": [
        "#### Now let's move to teams data in the biggest five leagues (English, Italian, Spanish, German and French)"
      ]
    },
    {
      "cell_type": "code",
      "execution_count": null,
      "id": "84909f78",
      "metadata": {
        "id": "84909f78",
        "outputId": "c4fdbae1-be15-4ecb-ba8b-5b92b3043806"
      },
      "outputs": [
        {
          "name": "stdout",
          "output_type": "stream",
          "text": [
            "<class 'pandas.core.frame.DataFrame'>\n",
            "RangeIndex: 11 entries, 0 to 10\n",
            "Data columns (total 2 columns):\n",
            " #   Column  Non-Null Count  Dtype \n",
            "---  ------  --------------  ----- \n",
            " 0   id      11 non-null     int64 \n",
            " 1   name    11 non-null     object\n",
            "dtypes: int64(1), object(1)\n",
            "memory usage: 304.0+ bytes\n"
          ]
        }
      ],
      "source": [
        "#Loading the dataset of all the countries\n",
        "df_country=pd.read_csv('Country.csv')\n",
        "df_country.info()"
      ]
    },
    {
      "cell_type": "code",
      "execution_count": null,
      "id": "8ba3aece",
      "metadata": {
        "id": "8ba3aece",
        "outputId": "ac3a0733-cd6f-48d8-c3c7-7f43996d0f69"
      },
      "outputs": [
        {
          "name": "stdout",
          "output_type": "stream",
          "text": [
            "<class 'pandas.core.frame.DataFrame'>\n",
            "RangeIndex: 11 entries, 0 to 10\n",
            "Data columns (total 3 columns):\n",
            " #   Column      Non-Null Count  Dtype \n",
            "---  ------      --------------  ----- \n",
            " 0   id          11 non-null     int64 \n",
            " 1   country_id  11 non-null     int64 \n",
            " 2   name        11 non-null     object\n",
            "dtypes: int64(2), object(1)\n",
            "memory usage: 392.0+ bytes\n"
          ]
        }
      ],
      "source": [
        "#Loading the dataset of all the leagues\n",
        "df_league=pd.read_csv('League.csv')\n",
        "df_league.info()"
      ]
    },
    {
      "cell_type": "code",
      "execution_count": null,
      "id": "147eb202",
      "metadata": {
        "id": "147eb202",
        "outputId": "368cae6a-6656-490e-f249-d23bcc559bc9"
      },
      "outputs": [
        {
          "data": {
            "text/html": [
              "<div>\n",
              "<style scoped>\n",
              "    .dataframe tbody tr th:only-of-type {\n",
              "        vertical-align: middle;\n",
              "    }\n",
              "\n",
              "    .dataframe tbody tr th {\n",
              "        vertical-align: top;\n",
              "    }\n",
              "\n",
              "    .dataframe thead th {\n",
              "        text-align: right;\n",
              "    }\n",
              "</style>\n",
              "<table border=\"1\" class=\"dataframe\">\n",
              "  <thead>\n",
              "    <tr style=\"text-align: right;\">\n",
              "      <th></th>\n",
              "      <th>id</th>\n",
              "      <th>name_x</th>\n",
              "      <th>country_id</th>\n",
              "      <th>name_y</th>\n",
              "    </tr>\n",
              "  </thead>\n",
              "  <tbody>\n",
              "    <tr>\n",
              "      <th>0</th>\n",
              "      <td>1</td>\n",
              "      <td>Belgium</td>\n",
              "      <td>1</td>\n",
              "      <td>Belgium Jupiler League</td>\n",
              "    </tr>\n",
              "    <tr>\n",
              "      <th>1</th>\n",
              "      <td>1729</td>\n",
              "      <td>England</td>\n",
              "      <td>1729</td>\n",
              "      <td>England Premier League</td>\n",
              "    </tr>\n",
              "    <tr>\n",
              "      <th>2</th>\n",
              "      <td>4769</td>\n",
              "      <td>France</td>\n",
              "      <td>4769</td>\n",
              "      <td>France Ligue 1</td>\n",
              "    </tr>\n",
              "    <tr>\n",
              "      <th>3</th>\n",
              "      <td>7809</td>\n",
              "      <td>Germany</td>\n",
              "      <td>7809</td>\n",
              "      <td>Germany 1. Bundesliga</td>\n",
              "    </tr>\n",
              "    <tr>\n",
              "      <th>4</th>\n",
              "      <td>10257</td>\n",
              "      <td>Italy</td>\n",
              "      <td>10257</td>\n",
              "      <td>Italy Serie A</td>\n",
              "    </tr>\n",
              "  </tbody>\n",
              "</table>\n",
              "</div>"
            ],
            "text/plain": [
              "      id   name_x  country_id                  name_y\n",
              "0      1  Belgium           1  Belgium Jupiler League\n",
              "1   1729  England        1729  England Premier League\n",
              "2   4769   France        4769          France Ligue 1\n",
              "3   7809  Germany        7809   Germany 1. Bundesliga\n",
              "4  10257    Italy       10257           Italy Serie A"
            ]
          },
          "execution_count": 41,
          "metadata": {},
          "output_type": "execute_result"
        }
      ],
      "source": [
        "# Now let's merge both datasets in order to relate each country with its league\n",
        "df_country_leagues = df_country.merge(df_league, left_on='id', right_on='id', how='inner')\n",
        "df_country_leagues.head()"
      ]
    },
    {
      "cell_type": "code",
      "execution_count": null,
      "id": "5b4d7c05",
      "metadata": {
        "id": "5b4d7c05",
        "outputId": "3a4ffb30-742d-4495-fbd2-7f490e71fb07"
      },
      "outputs": [
        {
          "data": {
            "text/html": [
              "<div>\n",
              "<style scoped>\n",
              "    .dataframe tbody tr th:only-of-type {\n",
              "        vertical-align: middle;\n",
              "    }\n",
              "\n",
              "    .dataframe tbody tr th {\n",
              "        vertical-align: top;\n",
              "    }\n",
              "\n",
              "    .dataframe thead th {\n",
              "        text-align: right;\n",
              "    }\n",
              "</style>\n",
              "<table border=\"1\" class=\"dataframe\">\n",
              "  <thead>\n",
              "    <tr style=\"text-align: right;\">\n",
              "      <th></th>\n",
              "      <th>id</th>\n",
              "      <th>Country</th>\n",
              "      <th>country_id</th>\n",
              "      <th>League</th>\n",
              "    </tr>\n",
              "  </thead>\n",
              "  <tbody>\n",
              "    <tr>\n",
              "      <th>0</th>\n",
              "      <td>1</td>\n",
              "      <td>Belgium</td>\n",
              "      <td>1</td>\n",
              "      <td>Belgium Jupiler League</td>\n",
              "    </tr>\n",
              "    <tr>\n",
              "      <th>1</th>\n",
              "      <td>1729</td>\n",
              "      <td>England</td>\n",
              "      <td>1729</td>\n",
              "      <td>England Premier League</td>\n",
              "    </tr>\n",
              "    <tr>\n",
              "      <th>2</th>\n",
              "      <td>4769</td>\n",
              "      <td>France</td>\n",
              "      <td>4769</td>\n",
              "      <td>France Ligue 1</td>\n",
              "    </tr>\n",
              "    <tr>\n",
              "      <th>3</th>\n",
              "      <td>7809</td>\n",
              "      <td>Germany</td>\n",
              "      <td>7809</td>\n",
              "      <td>Germany 1. Bundesliga</td>\n",
              "    </tr>\n",
              "    <tr>\n",
              "      <th>4</th>\n",
              "      <td>10257</td>\n",
              "      <td>Italy</td>\n",
              "      <td>10257</td>\n",
              "      <td>Italy Serie A</td>\n",
              "    </tr>\n",
              "  </tbody>\n",
              "</table>\n",
              "</div>"
            ],
            "text/plain": [
              "      id  Country  country_id                  League\n",
              "0      1  Belgium           1  Belgium Jupiler League\n",
              "1   1729  England        1729  England Premier League\n",
              "2   4769   France        4769          France Ligue 1\n",
              "3   7809  Germany        7809   Germany 1. Bundesliga\n",
              "4  10257    Italy       10257           Italy Serie A"
            ]
          },
          "execution_count": 42,
          "metadata": {},
          "output_type": "execute_result"
        }
      ],
      "source": [
        "# Now, let's rename the columns to get rid of x and y\n",
        "df_country_leagues.rename(columns={\"name_y\": \"League\", \"name_x\": \"Country\"},inplace=True)\n",
        "df_country_leagues.head()"
      ]
    },
    {
      "cell_type": "markdown",
      "id": "385f7eac",
      "metadata": {
        "id": "385f7eac"
      },
      "source": [
        "#### Now, let's get to the largest dataset of them all (Matches dataset)"
      ]
    },
    {
      "cell_type": "code",
      "execution_count": null,
      "id": "b4f61b3b",
      "metadata": {
        "id": "b4f61b3b",
        "outputId": "5e3f1d6d-9ddd-4d05-d0d3-ebe653683aef"
      },
      "outputs": [
        {
          "data": {
            "text/plain": [
              "id                0\n",
              "country_id        0\n",
              "league_id         0\n",
              "season            0\n",
              "stage             0\n",
              "              ...  \n",
              "GBD           11817\n",
              "GBA           11817\n",
              "BSH           11818\n",
              "BSD           11818\n",
              "BSA           11818\n",
              "Length: 115, dtype: int64"
            ]
          },
          "execution_count": 43,
          "metadata": {},
          "output_type": "execute_result"
        }
      ],
      "source": [
        "#let's load the data\n",
        "df_matches=pd.read_csv('Match.csv')\n",
        "\n",
        "#explore the null values within the dataset\n",
        "df_matches.isnull().sum()"
      ]
    },
    {
      "cell_type": "code",
      "execution_count": null,
      "id": "d9ee6b0d",
      "metadata": {
        "scrolled": true,
        "id": "d9ee6b0d",
        "outputId": "a3295a52-6da2-4e9f-b7ef-c032c1ba7ef2"
      },
      "outputs": [
        {
          "data": {
            "text/plain": [
              "id            0\n",
              "country_id    0\n",
              "league_id     0\n",
              "season        0\n",
              "stage         0\n",
              "             ..\n",
              "GBD           0\n",
              "GBA           0\n",
              "BSH           0\n",
              "BSD           0\n",
              "BSA           0\n",
              "Length: 115, dtype: int64"
            ]
          },
          "execution_count": 44,
          "metadata": {},
          "output_type": "execute_result"
        }
      ],
      "source": [
        "#let's get rid of the null values\n",
        "df_matches.dropna(inplace=True)\n",
        "\n",
        "#let's re-check\n",
        "df_matches.isnull().sum()"
      ]
    },
    {
      "cell_type": "code",
      "execution_count": null,
      "id": "4f268d16",
      "metadata": {
        "id": "4f268d16",
        "outputId": "0b4eddf4-a6c3-407a-be77-f2a0241f4dec"
      },
      "outputs": [
        {
          "data": {
            "text/plain": [
              "0"
            ]
          },
          "execution_count": 45,
          "metadata": {},
          "output_type": "execute_result"
        }
      ],
      "source": [
        "#let's check for any duplicated values\n",
        "df_matches.duplicated().sum()"
      ]
    },
    {
      "cell_type": "code",
      "execution_count": null,
      "id": "1775b6b2",
      "metadata": {
        "id": "1775b6b2",
        "outputId": "ce451b33-6a9e-4f71-ae52-3164add16b4f"
      },
      "outputs": [
        {
          "data": {
            "text/html": [
              "<div>\n",
              "<style scoped>\n",
              "    .dataframe tbody tr th:only-of-type {\n",
              "        vertical-align: middle;\n",
              "    }\n",
              "\n",
              "    .dataframe tbody tr th {\n",
              "        vertical-align: top;\n",
              "    }\n",
              "\n",
              "    .dataframe thead th {\n",
              "        text-align: right;\n",
              "    }\n",
              "</style>\n",
              "<table border=\"1\" class=\"dataframe\">\n",
              "  <thead>\n",
              "    <tr style=\"text-align: right;\">\n",
              "      <th></th>\n",
              "      <th>id_x</th>\n",
              "      <th>country_id_x</th>\n",
              "      <th>league_id</th>\n",
              "      <th>season</th>\n",
              "      <th>stage</th>\n",
              "      <th>date</th>\n",
              "      <th>match_api_id</th>\n",
              "      <th>home_team_api_id</th>\n",
              "      <th>away_team_api_id</th>\n",
              "      <th>home_team_goal</th>\n",
              "      <th>...</th>\n",
              "      <th>GBH</th>\n",
              "      <th>GBD</th>\n",
              "      <th>GBA</th>\n",
              "      <th>BSH</th>\n",
              "      <th>BSD</th>\n",
              "      <th>BSA</th>\n",
              "      <th>id_y</th>\n",
              "      <th>Country</th>\n",
              "      <th>country_id_y</th>\n",
              "      <th>League</th>\n",
              "    </tr>\n",
              "  </thead>\n",
              "  <tbody>\n",
              "    <tr>\n",
              "      <th>0</th>\n",
              "      <td>3249.0</td>\n",
              "      <td>1729.0</td>\n",
              "      <td>1729.0</td>\n",
              "      <td>2012/2013</td>\n",
              "      <td>1.0</td>\n",
              "      <td>2012-08-18 00:00:00</td>\n",
              "      <td>1228229.0</td>\n",
              "      <td>9825.0</td>\n",
              "      <td>8472.0</td>\n",
              "      <td>0.0</td>\n",
              "      <td>...</td>\n",
              "      <td>1.35</td>\n",
              "      <td>4.60</td>\n",
              "      <td>9.00</td>\n",
              "      <td>1.40</td>\n",
              "      <td>4.33</td>\n",
              "      <td>8.50</td>\n",
              "      <td>1729</td>\n",
              "      <td>England</td>\n",
              "      <td>1729</td>\n",
              "      <td>England Premier League</td>\n",
              "    </tr>\n",
              "    <tr>\n",
              "      <th>1</th>\n",
              "      <td>3250.0</td>\n",
              "      <td>1729.0</td>\n",
              "      <td>1729.0</td>\n",
              "      <td>2012/2013</td>\n",
              "      <td>1.0</td>\n",
              "      <td>2012-08-20 00:00:00</td>\n",
              "      <td>1228230.0</td>\n",
              "      <td>8668.0</td>\n",
              "      <td>10260.0</td>\n",
              "      <td>1.0</td>\n",
              "      <td>...</td>\n",
              "      <td>4.60</td>\n",
              "      <td>3.50</td>\n",
              "      <td>1.83</td>\n",
              "      <td>4.00</td>\n",
              "      <td>3.40</td>\n",
              "      <td>1.91</td>\n",
              "      <td>1729</td>\n",
              "      <td>England</td>\n",
              "      <td>1729</td>\n",
              "      <td>England Premier League</td>\n",
              "    </tr>\n",
              "    <tr>\n",
              "      <th>2</th>\n",
              "      <td>3251.0</td>\n",
              "      <td>1729.0</td>\n",
              "      <td>1729.0</td>\n",
              "      <td>2012/2013</td>\n",
              "      <td>1.0</td>\n",
              "      <td>2012-08-18 00:00:00</td>\n",
              "      <td>1228231.0</td>\n",
              "      <td>9879.0</td>\n",
              "      <td>9850.0</td>\n",
              "      <td>5.0</td>\n",
              "      <td>...</td>\n",
              "      <td>1.80</td>\n",
              "      <td>3.50</td>\n",
              "      <td>4.40</td>\n",
              "      <td>1.83</td>\n",
              "      <td>3.50</td>\n",
              "      <td>4.33</td>\n",
              "      <td>1729</td>\n",
              "      <td>England</td>\n",
              "      <td>1729</td>\n",
              "      <td>England Premier League</td>\n",
              "    </tr>\n",
              "    <tr>\n",
              "      <th>3</th>\n",
              "      <td>3252.0</td>\n",
              "      <td>1729.0</td>\n",
              "      <td>1729.0</td>\n",
              "      <td>2012/2013</td>\n",
              "      <td>1.0</td>\n",
              "      <td>2012-08-19 00:00:00</td>\n",
              "      <td>1228232.0</td>\n",
              "      <td>8456.0</td>\n",
              "      <td>8466.0</td>\n",
              "      <td>3.0</td>\n",
              "      <td>...</td>\n",
              "      <td>1.18</td>\n",
              "      <td>6.25</td>\n",
              "      <td>16.00</td>\n",
              "      <td>1.17</td>\n",
              "      <td>6.50</td>\n",
              "      <td>17.00</td>\n",
              "      <td>1729</td>\n",
              "      <td>England</td>\n",
              "      <td>1729</td>\n",
              "      <td>England Premier League</td>\n",
              "    </tr>\n",
              "    <tr>\n",
              "      <th>4</th>\n",
              "      <td>3253.0</td>\n",
              "      <td>1729.0</td>\n",
              "      <td>1729.0</td>\n",
              "      <td>2012/2013</td>\n",
              "      <td>1.0</td>\n",
              "      <td>2012-08-18 00:00:00</td>\n",
              "      <td>1228233.0</td>\n",
              "      <td>10261.0</td>\n",
              "      <td>8586.0</td>\n",
              "      <td>2.0</td>\n",
              "      <td>...</td>\n",
              "      <td>2.60</td>\n",
              "      <td>3.30</td>\n",
              "      <td>2.75</td>\n",
              "      <td>2.50</td>\n",
              "      <td>3.40</td>\n",
              "      <td>2.70</td>\n",
              "      <td>1729</td>\n",
              "      <td>England</td>\n",
              "      <td>1729</td>\n",
              "      <td>England Premier League</td>\n",
              "    </tr>\n",
              "  </tbody>\n",
              "</table>\n",
              "<p>5 rows × 119 columns</p>\n",
              "</div>"
            ],
            "text/plain": [
              "     id_x  country_id_x  league_id     season  stage                 date  \\\n",
              "0  3249.0        1729.0     1729.0  2012/2013    1.0  2012-08-18 00:00:00   \n",
              "1  3250.0        1729.0     1729.0  2012/2013    1.0  2012-08-20 00:00:00   \n",
              "2  3251.0        1729.0     1729.0  2012/2013    1.0  2012-08-18 00:00:00   \n",
              "3  3252.0        1729.0     1729.0  2012/2013    1.0  2012-08-19 00:00:00   \n",
              "4  3253.0        1729.0     1729.0  2012/2013    1.0  2012-08-18 00:00:00   \n",
              "\n",
              "   match_api_id  home_team_api_id  away_team_api_id  home_team_goal  ...  \\\n",
              "0     1228229.0            9825.0            8472.0             0.0  ...   \n",
              "1     1228230.0            8668.0           10260.0             1.0  ...   \n",
              "2     1228231.0            9879.0            9850.0             5.0  ...   \n",
              "3     1228232.0            8456.0            8466.0             3.0  ...   \n",
              "4     1228233.0           10261.0            8586.0             2.0  ...   \n",
              "\n",
              "    GBH   GBD    GBA   BSH   BSD    BSA  id_y  Country  country_id_y  \\\n",
              "0  1.35  4.60   9.00  1.40  4.33   8.50  1729  England          1729   \n",
              "1  4.60  3.50   1.83  4.00  3.40   1.91  1729  England          1729   \n",
              "2  1.80  3.50   4.40  1.83  3.50   4.33  1729  England          1729   \n",
              "3  1.18  6.25  16.00  1.17  6.50  17.00  1729  England          1729   \n",
              "4  2.60  3.30   2.75  2.50  3.40   2.70  1729  England          1729   \n",
              "\n",
              "                   League  \n",
              "0  England Premier League  \n",
              "1  England Premier League  \n",
              "2  England Premier League  \n",
              "3  England Premier League  \n",
              "4  England Premier League  \n",
              "\n",
              "[5 rows x 119 columns]"
            ]
          },
          "execution_count": 46,
          "metadata": {},
          "output_type": "execute_result"
        }
      ],
      "source": [
        "#let's merge the matches dataset with the leagues and countries dataset\n",
        "df_scores = df_matches.merge(df_country_leagues, left_on='country_id', right_on='id', how='outer')\n",
        "df_scores.head()"
      ]
    },
    {
      "cell_type": "code",
      "execution_count": null,
      "id": "43de783f",
      "metadata": {
        "id": "43de783f"
      },
      "outputs": [],
      "source": [
        "#Let's get rid of any null values that might affect the analysis\n",
        "df_scores.dropna(inplace=True)"
      ]
    },
    {
      "cell_type": "code",
      "execution_count": null,
      "id": "9de9021c",
      "metadata": {
        "id": "9de9021c"
      },
      "outputs": [],
      "source": [
        "# Getting the total goals scored for all the home teams\n",
        "home=df_scores.groupby(['Country'])['home_team_goal'].sum()"
      ]
    },
    {
      "cell_type": "code",
      "execution_count": null,
      "id": "b57e17b3",
      "metadata": {
        "id": "b57e17b3"
      },
      "outputs": [],
      "source": [
        "# Getting the total goals scored for all the home teams\n",
        "away=df_scores.groupby(['Country'])['away_team_goal'].sum()"
      ]
    },
    {
      "cell_type": "code",
      "execution_count": null,
      "id": "a4c59476",
      "metadata": {
        "id": "a4c59476",
        "outputId": "cec63f67-3b78-4675-d91c-f6b648f0d4d9"
      },
      "outputs": [
        {
          "data": {
            "image/png": "[encoded data removed]",
            "text/plain": [
              "<Figure size 504x504 with 1 Axes>"
            ]
          },
          "metadata": {
            "needs_background": "light"
          },
          "output_type": "display_data"
        }
      ],
      "source": [
        "#Plotting the data to compare goals scored by home and away teams\n",
        "home.plot(kind=\"bar\",figsize=(7,7),label='Home Team',color=\"Blue\");\n",
        "away.plot(kind=\"bar\",figsize=(7,7),label='Away Team',color=\"Green\");\n",
        "plt.ylabel('Total No. of Goals')\n",
        "plt.xlabel('Countries')\n",
        "plt.title('Home & Away Goals in the biggest five leagues')\n",
        "plt.legend()\n",
        "plt.show()"
      ]
    },
    {
      "cell_type": "markdown",
      "id": "c5b955ca",
      "metadata": {
        "id": "c5b955ca"
      },
      "source": [
        "> No surprises, home teams have advantage in scoring more goals than away teams.\n",
        "\n",
        "Noting that both the Spanish League (La Liga) and the English League (EPL) are the most in goals scored."
      ]
    },
    {
      "cell_type": "markdown",
      "id": "cca2ebb0",
      "metadata": {
        "id": "cca2ebb0"
      },
      "source": [
        "<a id='conc'></a>\n",
        "## Conclusions\n",
        "\n",
        ">**Results:**  \n",
        "The shown above analysis for our datasets concludes the following:  \n",
        "1- Majority of players are right footed as only areound 25% are left footed.  \n",
        "2- The average age of the players in the dataset is around 25 years old.  \n",
        "3- Physical attributes of the players have great effect on their football skills scores either positively ore negatively.  \n",
        "4- Many football skills are related to each other.  \n",
        "5- Age has a negative effect on the physical related football skills like strength, stamina and so on.  \n",
        "6- Messi is the best player in the world.  \n",
        "7- Home teams have much advantage over the away teams in scoring goals.  \n",
        "8- Both the Spanish League (La Liga) and the English League (EPL) are the most in goals scored.\n",
        "\n",
        "\n",
        "\n",
        ">**Limitations:**  \n",
        "The below issues hindered more efficient analysis process  \n",
        "1- Some provided columns needed more interpretation as they were named in un clear way.  \n",
        "2- Player's positions are provided in X-Y Coordinates instead of having the position names for easier processing.  \n",
        "3- Some leagues' data that are provided are not of anyone's concers as for the swiss league."
      ]
    }
  ],
  "metadata": {
    "kernelspec": {
      "display_name": "Python 3 (ipykernel)",
      "language": "python",
      "name": "python3"
    },
    "language_info": {
      "codemirror_mode": {
        "name": "ipython",
        "version": 3
      },
      "file_extension": ".py",
      "mimetype": "text/x-python",
      "name": "python",
      "nbconvert_exporter": "python",
      "pygments_lexer": "ipython3",
      "version": "3.8.11"
    },
    "colab": {
      "provenance": []
    }
  },
  "nbformat": 4,
  "nbformat_minor": 5
}